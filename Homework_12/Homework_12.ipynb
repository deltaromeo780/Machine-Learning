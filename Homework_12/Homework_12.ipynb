{
  "nbformat": 4,
  "nbformat_minor": 0,
  "metadata": {
    "colab": {
      "provenance": []
    },
    "kernelspec": {
      "name": "python3",
      "display_name": "Python 3"
    },
    "language_info": {
      "name": "python"
    }
  },
  "cells": [
    {
      "cell_type": "code",
      "execution_count": 1,
      "metadata": {
        "colab": {
          "base_uri": "https://localhost:8080/"
        },
        "collapsed": true,
        "id": "mfitXO9XI21a",
        "outputId": "7a6f931f-e4e9-41db-b1ce-232d015ea827"
      },
      "outputs": [
        {
          "output_type": "stream",
          "name": "stdout",
          "text": [
            "Requirement already satisfied: nltk in /usr/local/lib/python3.10/dist-packages (3.8.1)\n",
            "Requirement already satisfied: click in /usr/local/lib/python3.10/dist-packages (from nltk) (8.1.7)\n",
            "Requirement already satisfied: joblib in /usr/local/lib/python3.10/dist-packages (from nltk) (1.4.2)\n",
            "Requirement already satisfied: regex>=2021.8.3 in /usr/local/lib/python3.10/dist-packages (from nltk) (2024.5.15)\n",
            "Requirement already satisfied: tqdm in /usr/local/lib/python3.10/dist-packages (from nltk) (4.66.4)\n",
            "Requirement already satisfied: spacy in /usr/local/lib/python3.10/dist-packages (3.7.5)\n",
            "Requirement already satisfied: spacy-legacy<3.1.0,>=3.0.11 in /usr/local/lib/python3.10/dist-packages (from spacy) (3.0.12)\n",
            "Requirement already satisfied: spacy-loggers<2.0.0,>=1.0.0 in /usr/local/lib/python3.10/dist-packages (from spacy) (1.0.5)\n",
            "Requirement already satisfied: murmurhash<1.1.0,>=0.28.0 in /usr/local/lib/python3.10/dist-packages (from spacy) (1.0.10)\n",
            "Requirement already satisfied: cymem<2.1.0,>=2.0.2 in /usr/local/lib/python3.10/dist-packages (from spacy) (2.0.8)\n",
            "Requirement already satisfied: preshed<3.1.0,>=3.0.2 in /usr/local/lib/python3.10/dist-packages (from spacy) (3.0.9)\n",
            "Requirement already satisfied: thinc<8.3.0,>=8.2.2 in /usr/local/lib/python3.10/dist-packages (from spacy) (8.2.5)\n",
            "Requirement already satisfied: wasabi<1.2.0,>=0.9.1 in /usr/local/lib/python3.10/dist-packages (from spacy) (1.1.3)\n",
            "Requirement already satisfied: srsly<3.0.0,>=2.4.3 in /usr/local/lib/python3.10/dist-packages (from spacy) (2.4.8)\n",
            "Requirement already satisfied: catalogue<2.1.0,>=2.0.6 in /usr/local/lib/python3.10/dist-packages (from spacy) (2.0.10)\n",
            "Requirement already satisfied: weasel<0.5.0,>=0.1.0 in /usr/local/lib/python3.10/dist-packages (from spacy) (0.4.1)\n",
            "Requirement already satisfied: typer<1.0.0,>=0.3.0 in /usr/local/lib/python3.10/dist-packages (from spacy) (0.12.3)\n",
            "Requirement already satisfied: tqdm<5.0.0,>=4.38.0 in /usr/local/lib/python3.10/dist-packages (from spacy) (4.66.4)\n",
            "Requirement already satisfied: requests<3.0.0,>=2.13.0 in /usr/local/lib/python3.10/dist-packages (from spacy) (2.31.0)\n",
            "Requirement already satisfied: pydantic!=1.8,!=1.8.1,<3.0.0,>=1.7.4 in /usr/local/lib/python3.10/dist-packages (from spacy) (2.8.0)\n",
            "Requirement already satisfied: jinja2 in /usr/local/lib/python3.10/dist-packages (from spacy) (3.1.4)\n",
            "Requirement already satisfied: setuptools in /usr/local/lib/python3.10/dist-packages (from spacy) (67.7.2)\n",
            "Requirement already satisfied: packaging>=20.0 in /usr/local/lib/python3.10/dist-packages (from spacy) (24.1)\n",
            "Requirement already satisfied: langcodes<4.0.0,>=3.2.0 in /usr/local/lib/python3.10/dist-packages (from spacy) (3.4.0)\n",
            "Requirement already satisfied: numpy>=1.19.0 in /usr/local/lib/python3.10/dist-packages (from spacy) (1.25.2)\n",
            "Requirement already satisfied: language-data>=1.2 in /usr/local/lib/python3.10/dist-packages (from langcodes<4.0.0,>=3.2.0->spacy) (1.2.0)\n",
            "Requirement already satisfied: annotated-types>=0.4.0 in /usr/local/lib/python3.10/dist-packages (from pydantic!=1.8,!=1.8.1,<3.0.0,>=1.7.4->spacy) (0.7.0)\n",
            "Requirement already satisfied: pydantic-core==2.20.0 in /usr/local/lib/python3.10/dist-packages (from pydantic!=1.8,!=1.8.1,<3.0.0,>=1.7.4->spacy) (2.20.0)\n",
            "Requirement already satisfied: typing-extensions>=4.6.1 in /usr/local/lib/python3.10/dist-packages (from pydantic!=1.8,!=1.8.1,<3.0.0,>=1.7.4->spacy) (4.12.2)\n",
            "Requirement already satisfied: charset-normalizer<4,>=2 in /usr/local/lib/python3.10/dist-packages (from requests<3.0.0,>=2.13.0->spacy) (3.3.2)\n",
            "Requirement already satisfied: idna<4,>=2.5 in /usr/local/lib/python3.10/dist-packages (from requests<3.0.0,>=2.13.0->spacy) (3.7)\n",
            "Requirement already satisfied: urllib3<3,>=1.21.1 in /usr/local/lib/python3.10/dist-packages (from requests<3.0.0,>=2.13.0->spacy) (2.0.7)\n",
            "Requirement already satisfied: certifi>=2017.4.17 in /usr/local/lib/python3.10/dist-packages (from requests<3.0.0,>=2.13.0->spacy) (2024.6.2)\n",
            "Requirement already satisfied: blis<0.8.0,>=0.7.8 in /usr/local/lib/python3.10/dist-packages (from thinc<8.3.0,>=8.2.2->spacy) (0.7.11)\n",
            "Requirement already satisfied: confection<1.0.0,>=0.0.1 in /usr/local/lib/python3.10/dist-packages (from thinc<8.3.0,>=8.2.2->spacy) (0.1.5)\n",
            "Requirement already satisfied: click>=8.0.0 in /usr/local/lib/python3.10/dist-packages (from typer<1.0.0,>=0.3.0->spacy) (8.1.7)\n",
            "Requirement already satisfied: shellingham>=1.3.0 in /usr/local/lib/python3.10/dist-packages (from typer<1.0.0,>=0.3.0->spacy) (1.5.4)\n",
            "Requirement already satisfied: rich>=10.11.0 in /usr/local/lib/python3.10/dist-packages (from typer<1.0.0,>=0.3.0->spacy) (13.7.1)\n",
            "Requirement already satisfied: cloudpathlib<1.0.0,>=0.7.0 in /usr/local/lib/python3.10/dist-packages (from weasel<0.5.0,>=0.1.0->spacy) (0.18.1)\n",
            "Requirement already satisfied: smart-open<8.0.0,>=5.2.1 in /usr/local/lib/python3.10/dist-packages (from weasel<0.5.0,>=0.1.0->spacy) (7.0.4)\n",
            "Requirement already satisfied: MarkupSafe>=2.0 in /usr/local/lib/python3.10/dist-packages (from jinja2->spacy) (2.1.5)\n",
            "Requirement already satisfied: marisa-trie>=0.7.7 in /usr/local/lib/python3.10/dist-packages (from language-data>=1.2->langcodes<4.0.0,>=3.2.0->spacy) (1.2.0)\n",
            "Requirement already satisfied: markdown-it-py>=2.2.0 in /usr/local/lib/python3.10/dist-packages (from rich>=10.11.0->typer<1.0.0,>=0.3.0->spacy) (3.0.0)\n",
            "Requirement already satisfied: pygments<3.0.0,>=2.13.0 in /usr/local/lib/python3.10/dist-packages (from rich>=10.11.0->typer<1.0.0,>=0.3.0->spacy) (2.16.1)\n",
            "Requirement already satisfied: wrapt in /usr/local/lib/python3.10/dist-packages (from smart-open<8.0.0,>=5.2.1->weasel<0.5.0,>=0.1.0->spacy) (1.14.1)\n",
            "Requirement already satisfied: mdurl~=0.1 in /usr/local/lib/python3.10/dist-packages (from markdown-it-py>=2.2.0->rich>=10.11.0->typer<1.0.0,>=0.3.0->spacy) (0.1.2)\n"
          ]
        }
      ],
      "source": [
        "%pip install nltk\n",
        "%pip install spacy"
      ]
    },
    {
      "cell_type": "code",
      "source": [
        "import spacy\n",
        "import nltk\n",
        "nltk.download('punkt')\n",
        "nltk.download('stopwords')\n",
        "#from nltk.corpus import stopwords\n",
        "from nltk.tokenize import word_tokenize, sent_tokenize\n",
        "from heapq import nlargest"
      ],
      "metadata": {
        "colab": {
          "base_uri": "https://localhost:8080/"
        },
        "id": "8Dmk6txxJok5",
        "outputId": "d520adc7-0432-4448-fc04-80052132fcdb"
      },
      "execution_count": 8,
      "outputs": [
        {
          "output_type": "stream",
          "name": "stderr",
          "text": [
            "[nltk_data] Downloading package punkt to /root/nltk_data...\n",
            "[nltk_data]   Package punkt is already up-to-date!\n",
            "[nltk_data] Downloading package stopwords to /root/nltk_data...\n",
            "[nltk_data]   Unzipping corpora/stopwords.zip.\n"
          ]
        }
      ]
    },
    {
      "cell_type": "code",
      "source": [
        "nlp = spacy.load('en_core_web_sm')\n"
      ],
      "metadata": {
        "id": "6MEP2I4yJ1C-"
      },
      "execution_count": 3,
      "outputs": []
    },
    {
      "cell_type": "code",
      "source": [
        "tekst = \"\"\"The Orbiter Discovery, OV-103, is considered eligible for listing in\n",
        "the National Register of Historic Places (NRHP) in the context of the U.S.\n",
        "Space Shuttle Program (1969-2011) under Criterion\n",
        "A in the areas of Space Exploration and Transportation and under Criterion C\n",
        "in the area of Engineering. Because it has achieved significance within\n",
        "the past fifty years, Criteria Consideration G applies. Under Criterion\n",
        "A, Discovery is significant as the oldest of the three extant orbiter vehicles\n",
        "constructed for the Space Shuttle Program (SSP), the longest running\n",
        "American space program to date; she was the third of five orbiters\n",
        "built by NASA. Unlike the Mercury, Gemini, and Apollo programs, the SSP’s\n",
        "emphasis was on cost effectiveness and reusability, and eventually\n",
        "the construction of a space station. Including her maiden voyage\n",
        "(launched August 30, 1984), Discovery flew to space thirty-nine times,\n",
        "more than any of the other four orbiters; she was also the first\n",
        "orbiter to fly twenty missions. She had the honor of being chosen as\n",
        "the Return to Flight vehicle after both the Challenger and Columbia accidents.\n",
        "Discovery was the first shuttle to fly with the redesigned SRBs, a result\n",
        "of the Challenger accident, and the first shuttle to fly with the\n",
        "Phase II and Block I SSME. Discovery also carried\n",
        "the Hubble Space Telescope to orbit and performed two of the five servicing\n",
        "missions to the observatory. She flew the first and last dedicated\n",
        "Department of Defense (DoD) missions, as well as the first unclassified\n",
        "defense-related mission. In addition, Discovery was vital to\n",
        "the construction of the International Space Station (ISS);\n",
        "she flew thirteen of the thirty-seven total missions flown to the station\n",
        "by a U.S. Space Shuttle. She was the first orbiter to dock to the ISS,\n",
        "and the first to perform an exchange of a resident crew. Under Criterion C,\n",
        "Discovery is significant as a feat of engineering.\n",
        "According to Wayne Hale, a flight director from Johnson Space Center,\n",
        "the Space Shuttle orbiter represents a “huge technological leap from expendable\n",
        "rockets and capsules to a reusable, winged, hypersonic,\n",
        "cargo-carrying spacecraft.” Although her base structure followed a conventional\n",
        "aircraft design, she used advanced materials that both minimized her weight for\n",
        "cargo-carrying purposes and featured low thermal expansion ratios, which\n",
        "provided a stable base for her Thermal Protection System (TPS) materials.\n",
        "The Space Shuttle orbiter also featured the first reusable TPS;\n",
        "all previous spaceflight vehicles had a single-use, ablative heat shield.\n",
        "Other notable engineering achievements of the orbiter included the first\n",
        "reusable orbital propulsion system, and the first two-fault-tolerant Integrated\n",
        "Avionics System. As Hale stated, the Space Shuttle remains “the largest,\n",
        "fastest, winged hypersonic aircraft in history,” having regularly\n",
        " flown at twenty-five times the speed of sound.\"\"\"\n",
        "\n"
      ],
      "metadata": {
        "id": "wNLePxDRJ8V5"
      },
      "execution_count": 4,
      "outputs": []
    },
    {
      "cell_type": "code",
      "source": [
        "# Tokenizacja zdań\n",
        "zdania = sent_tokenize(tekst)\n",
        "\n",
        "# Tokenizacja słów i usunięcie słów stop oraz interpunkcji\n",
        "stop_words = set(stopwords.words('english'))\n",
        "znaki_interpunkcyjne = set(['.', ',', ':', ';', '!', '?', '(', ')', '[', ']',\n",
        "                          '{', '}', \"'\", '\"', '-', '``', \"''\", '...'])\n",
        "\n",
        "# Tokenizacja słów za pomocą SpaCy\n",
        "doc = nlp(tekst)\n",
        "tokens = [token.text for token in doc if token.text.lower() not in stop_words\n",
        "          and token.text not in znaki_interpunkcyjne]\n"
      ],
      "metadata": {
        "id": "eEgpXvBcLrWg"
      },
      "execution_count": 9,
      "outputs": []
    },
    {
      "cell_type": "code",
      "source": [
        "czestotliwosc_slow = {}\n",
        "for slowo in tokens:\n",
        "    if slowo.lower() not in czestotliwosc_slow:\n",
        "        czestotliwosc_slow[slowo.lower()] = 1\n",
        "    else:\n",
        "        czestotliwosc_slow[slowo.lower()] += 1\n"
      ],
      "metadata": {
        "id": "rVpN0eg5MqrP"
      },
      "execution_count": 10,
      "outputs": []
    },
    {
      "cell_type": "code",
      "source": [
        "oceny_zdan = {}\n",
        "for zdanie in zdania:\n",
        "    oceny_zdan[zdanie] = 0\n",
        "    for slowo in word_tokenize(zdanie):\n",
        "        if slowo.lower() in czestotliwosc_slow:\n",
        "            oceny_zdan[zdanie] += czestotliwosc_slow[slowo.lower()]\n"
      ],
      "metadata": {
        "id": "MhHEOnxCNXib"
      },
      "execution_count": 11,
      "outputs": []
    },
    {
      "cell_type": "code",
      "source": [
        "dlugosc_wyboru = int(len(zdania) * 0.3)  # Wybieramy 30% zdań\n",
        "podsumowanie = nlargest(dlugosc_wyboru, oceny_zdan, key=oceny_zdan.get)\n"
      ],
      "metadata": {
        "id": "MBMbVl__NdAE"
      },
      "execution_count": 12,
      "outputs": []
    },
    {
      "cell_type": "code",
      "source": [
        "podsumowanie_tekst = ' '.join(podsumowanie)\n",
        "print(podsumowanie_tekst)\n"
      ],
      "metadata": {
        "colab": {
          "base_uri": "https://localhost:8080/"
        },
        "id": "9GOlfmvONkHD",
        "outputId": "b1e4daed-6854-4155-c470-2dd35e6308d5"
      },
      "execution_count": 13,
      "outputs": [
        {
          "output_type": "stream",
          "name": "stdout",
          "text": [
            "According to Wayne Hale, a flight director from Johnson Space Center,\n",
            "the Space Shuttle orbiter represents a “huge technological leap from expendable \n",
            "rockets and capsules to a reusable, winged, hypersonic, \n",
            "cargo-carrying spacecraft.” Although her base structure followed a conventional \n",
            "aircraft design, she used advanced materials that both minimized her weight for \n",
            "cargo-carrying purposes and featured low thermal expansion ratios, which \n",
            "provided a stable base for her Thermal Protection System (TPS) materials. The Orbiter Discovery, OV-103, is considered eligible for listing in \n",
            "the National Register of Historic Places (NRHP) in the context of the U.S. \n",
            "Space Shuttle Program (1969-2011) under Criterion \n",
            "A in the areas of Space Exploration and Transportation and under Criterion C \n",
            "in the area of Engineering. Under Criterion \n",
            "A, Discovery is significant as the oldest of the three extant orbiter vehicles \n",
            "constructed for the Space Shuttle Program (SSP), the longest running \n",
            "American space program to date; she was the third of five orbiters \n",
            "built by NASA. In addition, Discovery was vital to \n",
            "the construction of the International Space Station (ISS); \n",
            "she flew thirteen of the thirty-seven total missions flown to the station\n",
            "by a U.S. Space Shuttle.\n"
          ]
        }
      ]
    },
    {
      "cell_type": "code",
      "source": [],
      "metadata": {
        "id": "gPPZ8w6aNusP"
      },
      "execution_count": null,
      "outputs": []
    }
  ]
}