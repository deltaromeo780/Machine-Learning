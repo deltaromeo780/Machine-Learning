{
 "cells": [
  {
   "cell_type": "code",
   "execution_count": 10,
   "id": "45e3f4a3-2aee-4d54-8051-3ae8db09b528",
   "metadata": {},
   "outputs": [
    {
     "name": "stdout",
     "output_type": "stream",
     "text": [
      "Requirement already satisfied: matplotlib in ./.venv/lib/python3.12/site-packages (3.9.0)\n",
      "Requirement already satisfied: contourpy>=1.0.1 in ./.venv/lib/python3.12/site-packages (from matplotlib) (1.2.1)\n",
      "Requirement already satisfied: cycler>=0.10 in ./.venv/lib/python3.12/site-packages (from matplotlib) (0.12.1)\n",
      "Requirement already satisfied: fonttools>=4.22.0 in ./.venv/lib/python3.12/site-packages (from matplotlib) (4.51.0)\n",
      "Requirement already satisfied: kiwisolver>=1.3.1 in ./.venv/lib/python3.12/site-packages (from matplotlib) (1.4.5)\n",
      "Requirement already satisfied: numpy>=1.23 in ./.venv/lib/python3.12/site-packages (from matplotlib) (1.26.4)\n",
      "Requirement already satisfied: packaging>=20.0 in ./.venv/lib/python3.12/site-packages (from matplotlib) (24.0)\n",
      "Requirement already satisfied: pillow>=8 in ./.venv/lib/python3.12/site-packages (from matplotlib) (10.3.0)\n",
      "Requirement already satisfied: pyparsing>=2.3.1 in ./.venv/lib/python3.12/site-packages (from matplotlib) (3.1.2)\n",
      "Requirement already satisfied: python-dateutil>=2.7 in ./.venv/lib/python3.12/site-packages (from matplotlib) (2.9.0.post0)\n",
      "Requirement already satisfied: six>=1.5 in ./.venv/lib/python3.12/site-packages (from python-dateutil>=2.7->matplotlib) (1.16.0)\n"
     ]
    }
   ],
   "source": [
    "import pandas as pd\n",
    "df = pd.read_excel(\"zad2.xlsx\")\n",
    "import numpy as np\n",
    "!pip install matplotlib\n",
    "import matplotlib.pyplot as plt"
   ]
  },
  {
   "cell_type": "markdown",
   "id": "2a6700d9-0e57-41ee-b888-ce16e4f2a156",
   "metadata": {},
   "source": [
    "1.Wyświetl pierwsze wiersze tabeli przy użyciu metody head"
   ]
  },
  {
   "cell_type": "code",
   "execution_count": 11,
   "id": "b7d7a80f-e626-499b-8f7b-6a858f75743c",
   "metadata": {},
   "outputs": [
    {
     "name": "stdout",
     "output_type": "stream",
     "text": [
      "                    Region  1950  1960  1970  1990  2000  2012  2014  2019\n",
      "0                     Krym  23.0  20.6  16.0  13.0   7.3  12.6     —     —\n",
      "1           Obwód winnicki  22.4  19.2  14.2  12.4   8.4  11.2  10.9   7.6\n",
      "2           Obwód wołyński  24.7  25.0  17.9  15.3  11.2  14.8  14.1  10.1\n",
      "3  Obwód dniepropietrowski  20.4  20.4  15.1  12.3   7.1  11.2  11.1   7.1\n",
      "4                  Donieck  27.1  21.4  14.0  10.9   6.1   9.8   8.2     —\n"
     ]
    }
   ],
   "source": [
    "print(df.head())"
   ]
  },
  {
   "cell_type": "markdown",
   "id": "9e3e0322-2331-4342-8f9f-58f682b46696",
   "metadata": {},
   "source": [
    "2.Zdefiniuj liczbę wierszy i kolumn w zbiorze danych (atrybut shape)"
   ]
  },
  {
   "cell_type": "code",
   "execution_count": 12,
   "id": "0be124c8-c330-44aa-9b68-c9b5fab1b883",
   "metadata": {},
   "outputs": [
    {
     "name": "stdout",
     "output_type": "stream",
     "text": [
      "liczba wierszy:  28\n",
      "liczba kolumn:  9\n"
     ]
    }
   ],
   "source": [
    "wiersze, kolumny = df.shape\n",
    "print(\"liczba wierszy: \", wiersze)\n",
    "print(\"liczba kolumn: \", kolumny)"
   ]
  },
  {
   "cell_type": "markdown",
   "id": "40c58672-be56-4c32-b642-0d99f1586f8d",
   "metadata": {},
   "source": [
    "3.Zastąp wartość \"—\" w tabeli wartością NaN"
   ]
  },
  {
   "cell_type": "code",
   "execution_count": 13,
   "id": "4d792616-6f3d-4a86-a01f-4e931be8ef29",
   "metadata": {},
   "outputs": [
    {
     "name": "stdout",
     "output_type": "stream",
     "text": [
      "                     Region    1950       1960  1970       1990       2000  \\\n",
      "0                      Krym  23.000  20.600000  16.0  13.000000   7.300000   \n",
      "1            Obwód winnicki  22.400  19.200000  14.2  12.400000   8.400000   \n",
      "2            Obwód wołyński  24.700  25.000000  17.9  15.300000  11.200000   \n",
      "3   Obwód dniepropietrowski  20.400  20.400000  15.1  12.300000   7.100000   \n",
      "4                   Donieck  27.100  21.400000  14.0  10.900000   6.100000   \n",
      "5         Obwód żytomierski  26.100  22.300000  15.9  12.900000   8.900000   \n",
      "6          Obwód zakarpacki  31.400  27.300000  20.7  16.800000  11.500000   \n",
      "7           Obwód zaporoski  21.900  19.700000  15.0  12.400000   7.100000   \n",
      "8     Obwód iwanofrankiwski  24.300  24.800000  18.2  15.500000  10.300000   \n",
      "9              Miasto Kijów  20.400  18.900000  15.6  12.300000   7.300000   \n",
      "10      Obwód kirowohradzki  21.600  17.100000  14.5  12.600000   7.900000   \n",
      "11           Obwód ługański  26.200  23.500000  14.4  11.600000   6.200000   \n",
      "12                     Lwów  23.400  24.000000  17.1  14.000000   9.100000   \n",
      "13       Obwód mikołajowski  21.100  19.400000  15.5  13.700000   8.000000   \n",
      "14                   Odessa  24.100  19.200000  14.8  12.600000   8.000000   \n",
      "15                  Połtawa  18.600  16.300000  13.1  11.800000   7.000000   \n",
      "16          Obwód rówieński  26.900  26.700000  19.3  15.800000  11.800000   \n",
      "17                   Sumska  21.600  18.400000  13.2  11.500000   7.000000   \n",
      "18        Obwód tarnopolski  21.300  21.600000  15.7  14.200000   9.200000   \n",
      "19         Obwód charkowski  19.700  17.300000  14.0  11.400000   6.800000   \n",
      "20                Chersoniu  20.800  21.400000  16.6  14.300000   8.500000   \n",
      "21        Obwód chmielnicki  23.400  19.800000  14.8  12.900000   8.500000   \n",
      "22          Obwód czerkaski  20.500  17.900000  14.4  12.300000   7.500000   \n",
      "23      Obwód czerniowiecki  24.700  21.800000  17.0  14.800000  10.100000   \n",
      "24       Obwód czernihowski  22.000  18.300000  12.7  10.800000   6.900000   \n",
      "25                    Kijów     NaN  17.400000  15.9  12.000000   7.300000   \n",
      "26               Sewastopol     NaN        NaN   NaN  12.500000   7.000000   \n",
      "27                      NaN  23.104  20.757692  15.6  13.059259   8.222222   \n",
      "\n",
      "         2012    2014      2019  \n",
      "0   12.600000     NaN       NaN  \n",
      "1   11.200000    10.9       7.6  \n",
      "2   14.800000    14.1      10.1  \n",
      "3   11.200000    11.1       7.1  \n",
      "4    9.800000     8.2       NaN  \n",
      "5   12.200000      12       7.9  \n",
      "6   15.100000    14.6      10.4  \n",
      "7   10.600000    10.6       6.8  \n",
      "8   12.400000    12.2       8.8  \n",
      "9   12.200000    12.1         8  \n",
      "10  11.000000    10.8       6.8  \n",
      "11   9.600000     5.1       NaN  \n",
      "12  11.900000    11.9       8.7  \n",
      "13  11.500000    11.2       7.1  \n",
      "14  12.700000    12.3       8.8  \n",
      "15   9.900000      10       6.5  \n",
      "16  15.900000    14.8      10.7  \n",
      "17   9.700000     9.2         6  \n",
      "18  11.300000    10.9       7.6  \n",
      "19   9.900000    10.1       6.8  \n",
      "20  11.700000    11.5       8.1  \n",
      "21  11.300000    11.2       7.9  \n",
      "22  10.000000     9.8       6.4  \n",
      "23  12.800000    12.9       9.2  \n",
      "24   9.400000       9       6.1  \n",
      "25  12.000000    12.1        11  \n",
      "26  12.000000     NaN       NaN  \n",
      "27  11.655556  11.144  8.017391  \n"
     ]
    }
   ],
   "source": [
    "pd.set_option('future.no_silent_downcasting', True)\n",
    "df.replace(\"—\", np.nan, inplace=True)\n",
    "print(df)"
   ]
  },
  {
   "cell_type": "markdown",
   "id": "b54c6942-632c-4555-aadf-cf131c9b8ccb",
   "metadata": {},
   "source": [
    "4.Zdefiniuj typy wszystkich kolumn za pomocą dataframe.dtypes"
   ]
  },
  {
   "cell_type": "code",
   "execution_count": 14,
   "id": "accd566f-f075-4342-b676-60b9f7d8cf0b",
   "metadata": {},
   "outputs": [
    {
     "name": "stdout",
     "output_type": "stream",
     "text": [
      "Region     object\n",
      "1950      float64\n",
      "1960      float64\n",
      "1970      float64\n",
      "1990      float64\n",
      "2000      float64\n",
      "2012      float64\n",
      "2014       object\n",
      "2019       object\n",
      "dtype: object\n"
     ]
    }
   ],
   "source": [
    "print(df.dtypes)"
   ]
  },
  {
   "cell_type": "markdown",
   "id": "420edb40-2bfb-457a-958c-6085be803c04",
   "metadata": {},
   "source": [
    "5. Zmień typy kolumn nienumerycznych na numeryczne. Podpowiedź: są to kolumny, w których znajdował się symbol \"—\""
   ]
  },
  {
   "cell_type": "code",
   "execution_count": 15,
   "id": "1e83c7bd-beb3-4736-b952-a1563eab2b30",
   "metadata": {},
   "outputs": [],
   "source": [
    "for column in df.columns:\n",
    "    if df[column].dtype == 'object':\n",
    "        try:\n",
    "            df[column] = pd.to_numeric(df[column])\n",
    "        except ValueError:\n",
    "            pass"
   ]
  },
  {
   "cell_type": "code",
   "execution_count": 16,
   "id": "0fed92c5-9183-4606-923a-ed85e1088aad",
   "metadata": {},
   "outputs": [
    {
     "name": "stdout",
     "output_type": "stream",
     "text": [
      "Region     object\n",
      "1950      float64\n",
      "1960      float64\n",
      "1970      float64\n",
      "1990      float64\n",
      "2000      float64\n",
      "2012      float64\n",
      "2014      float64\n",
      "2019      float64\n",
      "dtype: object\n"
     ]
    }
   ],
   "source": [
    "print(df.dtypes)"
   ]
  },
  {
   "cell_type": "markdown",
   "id": "bdefbcaf-ec9b-441b-9658-7858e9b59cc4",
   "metadata": {},
   "source": [
    "6. Oblicz proporcję pustych miejsc w każdej kolumnie (użyj metod isnull i sum)"
   ]
  },
  {
   "cell_type": "code",
   "execution_count": 17,
   "id": "4c2eea66-ec76-4a65-a016-7288c4d32929",
   "metadata": {},
   "outputs": [
    {
     "name": "stdout",
     "output_type": "stream",
     "text": [
      "Proporcje pustych miejsc w każdej kolumnie:\n",
      "Region    0.035714\n",
      "1950      0.071429\n",
      "1960      0.035714\n",
      "1970      0.035714\n",
      "1990      0.000000\n",
      "2000      0.000000\n",
      "2012      0.000000\n",
      "2014      0.071429\n",
      "2019      0.142857\n",
      "dtype: float64\n"
     ]
    }
   ],
   "source": [
    "ppm = df.isnull().sum() / len(df)\n",
    "print(\"Proporcje pustych miejsc w każdej kolumnie:\")\n",
    "print(ppm)\n"
   ]
  },
  {
   "cell_type": "markdown",
   "id": "64781324-cc65-4f9e-9600-666f4b7f44dc",
   "metadata": {},
   "source": [
    "7. Usuń z tabeli dane dla całego kraju, ostatni wiersz tabeli"
   ]
  },
  {
   "cell_type": "code",
   "execution_count": 18,
   "id": "c51c0d40-f401-464a-8bc9-d0d9c4f9c8ce",
   "metadata": {},
   "outputs": [
    {
     "name": "stdout",
     "output_type": "stream",
     "text": [
      "                     Region  1950  1960  1970  1990  2000  2012  2014  2019\n",
      "0                      Krym  23.0  20.6  16.0  13.0   7.3  12.6   NaN   NaN\n",
      "1            Obwód winnicki  22.4  19.2  14.2  12.4   8.4  11.2  10.9   7.6\n",
      "2            Obwód wołyński  24.7  25.0  17.9  15.3  11.2  14.8  14.1  10.1\n",
      "3   Obwód dniepropietrowski  20.4  20.4  15.1  12.3   7.1  11.2  11.1   7.1\n",
      "4                   Donieck  27.1  21.4  14.0  10.9   6.1   9.8   8.2   NaN\n",
      "5         Obwód żytomierski  26.1  22.3  15.9  12.9   8.9  12.2  12.0   7.9\n",
      "6          Obwód zakarpacki  31.4  27.3  20.7  16.8  11.5  15.1  14.6  10.4\n",
      "7           Obwód zaporoski  21.9  19.7  15.0  12.4   7.1  10.6  10.6   6.8\n",
      "8     Obwód iwanofrankiwski  24.3  24.8  18.2  15.5  10.3  12.4  12.2   8.8\n",
      "9              Miasto Kijów  20.4  18.9  15.6  12.3   7.3  12.2  12.1   8.0\n",
      "10      Obwód kirowohradzki  21.6  17.1  14.5  12.6   7.9  11.0  10.8   6.8\n",
      "11           Obwód ługański  26.2  23.5  14.4  11.6   6.2   9.6   5.1   NaN\n",
      "12                     Lwów  23.4  24.0  17.1  14.0   9.1  11.9  11.9   8.7\n",
      "13       Obwód mikołajowski  21.1  19.4  15.5  13.7   8.0  11.5  11.2   7.1\n",
      "14                   Odessa  24.1  19.2  14.8  12.6   8.0  12.7  12.3   8.8\n",
      "15                  Połtawa  18.6  16.3  13.1  11.8   7.0   9.9  10.0   6.5\n",
      "16          Obwód rówieński  26.9  26.7  19.3  15.8  11.8  15.9  14.8  10.7\n",
      "17                   Sumska  21.6  18.4  13.2  11.5   7.0   9.7   9.2   6.0\n",
      "18        Obwód tarnopolski  21.3  21.6  15.7  14.2   9.2  11.3  10.9   7.6\n",
      "19         Obwód charkowski  19.7  17.3  14.0  11.4   6.8   9.9  10.1   6.8\n",
      "20                Chersoniu  20.8  21.4  16.6  14.3   8.5  11.7  11.5   8.1\n",
      "21        Obwód chmielnicki  23.4  19.8  14.8  12.9   8.5  11.3  11.2   7.9\n",
      "22          Obwód czerkaski  20.5  17.9  14.4  12.3   7.5  10.0   9.8   6.4\n",
      "23      Obwód czerniowiecki  24.7  21.8  17.0  14.8  10.1  12.8  12.9   9.2\n",
      "24       Obwód czernihowski  22.0  18.3  12.7  10.8   6.9   9.4   9.0   6.1\n",
      "25                    Kijów   NaN  17.4  15.9  12.0   7.3  12.0  12.1  11.0\n",
      "26               Sewastopol   NaN   NaN   NaN  12.5   7.0  12.0   NaN   NaN\n"
     ]
    }
   ],
   "source": [
    "df = df.drop(df.index[-1])\n",
    "print(df)"
   ]
  },
  {
   "cell_type": "markdown",
   "id": "fc7416c6-86b0-4e43-b291-375d91131f3a",
   "metadata": {},
   "source": [
    "8. Zastąp brakujące dane w kolumnach średnimi wartościami tych kolumn (używając metody fillna)"
   ]
  },
  {
   "cell_type": "code",
   "execution_count": 19,
   "id": "23d1b3c5-403c-469b-8583-2c574171fd93",
   "metadata": {},
   "outputs": [
    {
     "name": "stdout",
     "output_type": "stream",
     "text": [
      "                     Region    1950       1960  1970  1990  2000  2012  \\\n",
      "0                      Krym  23.000  20.600000  16.0  13.0   7.3  12.6   \n",
      "1            Obwód winnicki  22.400  19.200000  14.2  12.4   8.4  11.2   \n",
      "2            Obwód wołyński  24.700  25.000000  17.9  15.3  11.2  14.8   \n",
      "3   Obwód dniepropietrowski  20.400  20.400000  15.1  12.3   7.1  11.2   \n",
      "4                   Donieck  27.100  21.400000  14.0  10.9   6.1   9.8   \n",
      "5         Obwód żytomierski  26.100  22.300000  15.9  12.9   8.9  12.2   \n",
      "6          Obwód zakarpacki  31.400  27.300000  20.7  16.8  11.5  15.1   \n",
      "7           Obwód zaporoski  21.900  19.700000  15.0  12.4   7.1  10.6   \n",
      "8     Obwód iwanofrankiwski  24.300  24.800000  18.2  15.5  10.3  12.4   \n",
      "9              Miasto Kijów  20.400  18.900000  15.6  12.3   7.3  12.2   \n",
      "10      Obwód kirowohradzki  21.600  17.100000  14.5  12.6   7.9  11.0   \n",
      "11           Obwód ługański  26.200  23.500000  14.4  11.6   6.2   9.6   \n",
      "12                     Lwów  23.400  24.000000  17.1  14.0   9.1  11.9   \n",
      "13       Obwód mikołajowski  21.100  19.400000  15.5  13.7   8.0  11.5   \n",
      "14                   Odessa  24.100  19.200000  14.8  12.6   8.0  12.7   \n",
      "15                  Połtawa  18.600  16.300000  13.1  11.8   7.0   9.9   \n",
      "16          Obwód rówieński  26.900  26.700000  19.3  15.8  11.8  15.9   \n",
      "17                   Sumska  21.600  18.400000  13.2  11.5   7.0   9.7   \n",
      "18        Obwód tarnopolski  21.300  21.600000  15.7  14.2   9.2  11.3   \n",
      "19         Obwód charkowski  19.700  17.300000  14.0  11.4   6.8   9.9   \n",
      "20                Chersoniu  20.800  21.400000  16.6  14.3   8.5  11.7   \n",
      "21        Obwód chmielnicki  23.400  19.800000  14.8  12.9   8.5  11.3   \n",
      "22          Obwód czerkaski  20.500  17.900000  14.4  12.3   7.5  10.0   \n",
      "23      Obwód czerniowiecki  24.700  21.800000  17.0  14.8  10.1  12.8   \n",
      "24       Obwód czernihowski  22.000  18.300000  12.7  10.8   6.9   9.4   \n",
      "25                    Kijów  23.104  17.400000  15.9  12.0   7.3  12.0   \n",
      "26               Sewastopol  23.104  20.757692  15.6  12.5   7.0  12.0   \n",
      "\n",
      "      2014       2019  \n",
      "0   11.144   8.017391  \n",
      "1   10.900   7.600000  \n",
      "2   14.100  10.100000  \n",
      "3   11.100   7.100000  \n",
      "4    8.200   8.017391  \n",
      "5   12.000   7.900000  \n",
      "6   14.600  10.400000  \n",
      "7   10.600   6.800000  \n",
      "8   12.200   8.800000  \n",
      "9   12.100   8.000000  \n",
      "10  10.800   6.800000  \n",
      "11   5.100   8.017391  \n",
      "12  11.900   8.700000  \n",
      "13  11.200   7.100000  \n",
      "14  12.300   8.800000  \n",
      "15  10.000   6.500000  \n",
      "16  14.800  10.700000  \n",
      "17   9.200   6.000000  \n",
      "18  10.900   7.600000  \n",
      "19  10.100   6.800000  \n",
      "20  11.500   8.100000  \n",
      "21  11.200   7.900000  \n",
      "22   9.800   6.400000  \n",
      "23  12.900   9.200000  \n",
      "24   9.000   6.100000  \n",
      "25  12.100  11.000000  \n",
      "26  11.144   8.017391  \n"
     ]
    }
   ],
   "source": [
    "# Wybieram tylko kolumny numeryczne\n",
    "numeric_cols = df.select_dtypes(include='number')\n",
    "\n",
    "# Obliczam średnie wartości dla kolumn numerycznych\n",
    "means = numeric_cols.mean()\n",
    "\n",
    "# Zastąpuje brakujące dane w kolumnach średnimi wartościami\n",
    "df = df.fillna(means)\n",
    "print(df)"
   ]
  },
  {
   "cell_type": "markdown",
   "id": "b45b9e1a-7fbd-486f-853e-8e91214e1729",
   "metadata": {},
   "source": [
    "9. Uzyskaj listę regionów, w których wskaźnik urodzeń w 2019 r. był wyższy niż średnia dla Ukrainy\n",
    "   "
   ]
  },
  {
   "cell_type": "code",
   "execution_count": 20,
   "id": "c87bc928-2f53-40bc-acfa-3140016c1c19",
   "metadata": {},
   "outputs": [
    {
     "name": "stdout",
     "output_type": "stream",
     "text": [
      "średnia dla Ukrainy:  8.017391304347827\n",
      "regiony z wyższym wskaźnikiem niż średnia: \n"
     ]
    }
   ],
   "source": [
    "# Obliczam średnią wartość wzkaźnika urodzeń z całej Ukrainy dla roku 2019, pomijając pierwszy wiersz tej kolumny który jest nazwą\n",
    "average_born = df.loc[1:, 2019].mean()\n",
    "print(\"średnia dla Ukrainy: \", average_born)\n",
    "regiony_powyżej_średniej = df[df[2019] > average_born]['Region']\n",
    "print(\"regiony z wyższym wskaźnikiem niż średnia: \")\n",
    "#print(regiony_powyżej_średniej.to_string(index=False))"
   ]
  },
  {
   "cell_type": "markdown",
   "id": "fea7e42a-4163-407b-9511-3e1c6f8eceaf",
   "metadata": {},
   "source": [
    "10. Który region miał najwyższy wskaźnik urodzeń w 2014 roku?"
   ]
  },
  {
   "cell_type": "code",
   "execution_count": 21,
   "id": "a602b32b-02d1-4ee7-a081-5c6a62218c8d",
   "metadata": {},
   "outputs": [
    {
     "name": "stdout",
     "output_type": "stream",
     "text": [
      "Region z najwyższym wskaźnikiem urodzeń w 2014 roku: Obwód rówieński\n"
     ]
    }
   ],
   "source": [
    "max_birth_rate_region = df.loc[df[2014].idxmax()]['Region']\n",
    "print(\"Region z najwyższym wskaźnikiem urodzeń w 2014 roku:\", max_birth_rate_region)"
   ]
  },
  {
   "cell_type": "markdown",
   "id": "04c4f441-792d-47ad-ac28-8a1e9958e86a",
   "metadata": {},
   "source": [
    "11. Zbuduj wykres słupkowy wskaźnika urodzeń według regionów w 2019 r."
   ]
  },
  {
   "cell_type": "code",
   "execution_count": 22,
   "id": "71352e32-7145-4be5-915c-2ad773012e85",
   "metadata": {},
   "outputs": [
    {
     "data": {
      "image/png": "[encoded data removed]",
      "text/plain": [
       "<Figure size 1000x600 with 1 Axes>"
      ]
     },
     "metadata": {},
     "output_type": "display_data"
    }
   ],
   "source": [
    "# Konwersja indeksów na typ str\n",
    "df.index = df.index.astype(str)\n",
    "\n",
    "# Tworzenie wykresu słupkowego\n",
    "plt.figure(figsize=(10, 6))\n",
    "plt.bar(df.index, df[2019], color='skyblue')\n",
    "\n",
    "# Dodanie tytułu i etykiet osi\n",
    "plt.title('Wskaźnik urodzeń według regionów w 2019 roku')\n",
    "plt.xlabel('Region')\n",
    "plt.ylabel('Wskaźnik urodzeń')\n",
    "\n",
    "# Rotacja etykiet na osi X, aby były bardziej czytelne\n",
    "plt.xticks(rotation=45, ha='right')\n",
    "\n",
    "# Wyświetlenie wykresu\n",
    "plt.tight_layout()\n",
    "plt.show()"
   ]
  },
  {
   "cell_type": "code",
   "execution_count": null,
   "id": "e754979c-a205-4bf0-9acc-3163421440f0",
   "metadata": {},
   "outputs": [],
   "source": []
  }
 ],
 "metadata": {
  "kernelspec": {
   "display_name": "Python 3 (ipykernel)",
   "language": "python",
   "name": "python3"
  },
  "language_info": {
   "codemirror_mode": {
    "name": "ipython",
    "version": 3
   },
   "file_extension": ".py",
   "mimetype": "text/x-python",
   "name": "python",
   "nbconvert_exporter": "python",
   "pygments_lexer": "ipython3",
   "version": "3.12.2"
  }
 },
 "nbformat": 4,
 "nbformat_minor": 5
}
