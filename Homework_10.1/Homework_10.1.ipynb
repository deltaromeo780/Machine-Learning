{
  "nbformat": 4,
  "nbformat_minor": 0,
  "metadata": {
    "colab": {
      "provenance": []
    },
    "kernelspec": {
      "name": "python3",
      "display_name": "Python 3"
    },
    "language_info": {
      "name": "python"
    }
  },
  "cells": [
    {
      "cell_type": "code",
      "execution_count": 1,
      "metadata": {
        "id": "ZxvuDq_j1jNu"
      },
      "outputs": [],
      "source": [
        "from tensorflow import keras\n",
        "import numpy as np\n",
        "import matplotlib.pyplot as plt"
      ]
    },
    {
      "cell_type": "code",
      "source": [
        "from keras.datasets import fashion_mnist"
      ],
      "metadata": {
        "id": "mAnTHzTD2Fgw"
      },
      "execution_count": 2,
      "outputs": []
    },
    {
      "cell_type": "code",
      "source": [
        "(x_train, y_train), (x_test, y_test) = fashion_mnist.load_data()\n",
        "assert x_train.shape == (60000, 28, 28)\n",
        "assert x_test.shape == (10000, 28, 28)\n",
        "assert y_train.shape == (60000,)\n",
        "assert y_test.shape == (10000,)\n"
      ],
      "metadata": {
        "id": "9u6YthVX4JFI",
        "colab": {
          "base_uri": "https://localhost:8080/"
        },
        "outputId": "a1eb5a74-795a-4a58-ae84-674cd53816f2"
      },
      "execution_count": 3,
      "outputs": [
        {
          "output_type": "stream",
          "name": "stdout",
          "text": [
            "Downloading data from https://storage.googleapis.com/tensorflow/tf-keras-datasets/train-labels-idx1-ubyte.gz\n",
            "29515/29515 [==============================] - 0s 0us/step\n",
            "Downloading data from https://storage.googleapis.com/tensorflow/tf-keras-datasets/train-images-idx3-ubyte.gz\n",
            "26421880/26421880 [==============================] - 0s 0us/step\n",
            "Downloading data from https://storage.googleapis.com/tensorflow/tf-keras-datasets/t10k-labels-idx1-ubyte.gz\n",
            "5148/5148 [==============================] - 0s 0us/step\n",
            "Downloading data from https://storage.googleapis.com/tensorflow/tf-keras-datasets/t10k-images-idx3-ubyte.gz\n",
            "4422102/4422102 [==============================] - 0s 0us/step\n"
          ]
        }
      ]
    },
    {
      "cell_type": "code",
      "source": [
        "train_samples_num = x_train.shape[0]\n",
        "print(train_samples_num)\n",
        "print(type(train_samples_num))"
      ],
      "metadata": {
        "colab": {
          "base_uri": "https://localhost:8080/"
        },
        "id": "JoiLbpPClbwn",
        "outputId": "e55925d3-e9b8-4378-b620-f61354a0dfaf"
      },
      "execution_count": 4,
      "outputs": [
        {
          "output_type": "stream",
          "name": "stdout",
          "text": [
            "60000\n",
            "<class 'int'>\n"
          ]
        }
      ]
    },
    {
      "cell_type": "code",
      "source": [
        "\n",
        "fm_label = {\n",
        "0:\t\"T-shirt/top\",\n",
        "1:\t\"Trouser\",\n",
        "2:\t\"Pullover\",\n",
        "3:\t\"Dress\",\n",
        "4:\t\"Coat\",\n",
        "5:\t\"Sandal\",\n",
        "6:\t\"Shirt\",\n",
        "7:\t\"Sneaker\",\n",
        "8:\t\"Bag\",\n",
        "9:\t\"Ankle boot\"\n",
        "}"
      ],
      "metadata": {
        "id": "Rf-qYekZ5RdW"
      },
      "execution_count": 5,
      "outputs": []
    },
    {
      "cell_type": "code",
      "source": [
        "x_train = x_train.reshape((60000, 28, 28, 1))\n",
        "x_train = x_train.astype(\"float32\") / 255\n",
        "x_test = x_test.reshape((10000, 28, 28, 1))\n",
        "x_test = x_test.astype(\"float32\") / 255\n",
        "y_train = keras.utils.to_categorical(y_train)\n",
        "y_test = keras.utils.to_categorical(y_test)"
      ],
      "metadata": {
        "id": "GlSqEVwy40Vm"
      },
      "execution_count": 6,
      "outputs": []
    },
    {
      "cell_type": "code",
      "source": [
        "input_shape = x_train[0].shape\n",
        "print(input_shape)"
      ],
      "metadata": {
        "colab": {
          "base_uri": "https://localhost:8080/"
        },
        "id": "s-G6Is2u6jnS",
        "outputId": "4270d69f-a1bc-4c35-b153-b286d5412c3f"
      },
      "execution_count": 7,
      "outputs": [
        {
          "output_type": "stream",
          "name": "stdout",
          "text": [
            "(28, 28, 1)\n"
          ]
        }
      ]
    },
    {
      "cell_type": "code",
      "source": [
        "model = keras.models.Sequential(\n",
        "    [\n",
        "        keras.layers.Conv2D(20, (3, 3), activation=\"relu\",\n",
        "        input_shape=input_shape),\n",
        "        keras.layers.MaxPooling2D((2, 2)),\n",
        "        keras.layers.Flatten(),\n",
        "        keras.layers.Dense(200, activation='relu'),\n",
        "        keras.layers.Dropout(rate=0.01),\n",
        "        keras.layers.Dense(10, activation='softmax')\n",
        "    ]\n",
        ")"
      ],
      "metadata": {
        "id": "DF0YecT16IVX"
      },
      "execution_count": 8,
      "outputs": []
    },
    {
      "cell_type": "code",
      "source": [
        "model.summary()"
      ],
      "metadata": {
        "colab": {
          "base_uri": "https://localhost:8080/"
        },
        "id": "w85P9RvUvx2g",
        "outputId": "5cd41056-2343-494a-eec4-7cb695952347"
      },
      "execution_count": 9,
      "outputs": [
        {
          "output_type": "stream",
          "name": "stdout",
          "text": [
            "Model: \"sequential\"\n",
            "_________________________________________________________________\n",
            " Layer (type)                Output Shape              Param #   \n",
            "=================================================================\n",
            " conv2d (Conv2D)             (None, 26, 26, 20)        200       \n",
            "                                                                 \n",
            " max_pooling2d (MaxPooling2  (None, 13, 13, 20)        0         \n",
            " D)                                                              \n",
            "                                                                 \n",
            " flatten (Flatten)           (None, 3380)              0         \n",
            "                                                                 \n",
            " dense (Dense)               (None, 200)               676200    \n",
            "                                                                 \n",
            " dropout (Dropout)           (None, 200)               0         \n",
            "                                                                 \n",
            " dense_1 (Dense)             (None, 10)                2010      \n",
            "                                                                 \n",
            "=================================================================\n",
            "Total params: 678410 (2.59 MB)\n",
            "Trainable params: 678410 (2.59 MB)\n",
            "Non-trainable params: 0 (0.00 Byte)\n",
            "_________________________________________________________________\n"
          ]
        }
      ]
    },
    {
      "cell_type": "code",
      "source": [
        "model.compile(optimizer='adam',\n",
        "              loss=\"categorical_crossentropy\",\n",
        "              metrics='accuracy',\n",
        ")"
      ],
      "metadata": {
        "id": "BmhZEGit8_H7"
      },
      "execution_count": 10,
      "outputs": []
    },
    {
      "cell_type": "code",
      "source": [
        "model.fit(x=x_train,\n",
        "          y=y_train,\n",
        "          batch_size=64,\n",
        "          epochs=8,\n",
        "          validation_split=0.1,\n",
        ")"
      ],
      "metadata": {
        "colab": {
          "base_uri": "https://localhost:8080/"
        },
        "id": "rqsBJQXv9WxX",
        "outputId": "810d6f42-687b-4a60-aa1c-5149af823596"
      },
      "execution_count": 11,
      "outputs": [
        {
          "output_type": "stream",
          "name": "stdout",
          "text": [
            "Epoch 1/8\n",
            "844/844 [==============================] - 26s 30ms/step - loss: 0.4137 - accuracy: 0.8550 - val_loss: 0.3117 - val_accuracy: 0.8888\n",
            "Epoch 2/8\n",
            "844/844 [==============================] - 25s 29ms/step - loss: 0.2772 - accuracy: 0.9002 - val_loss: 0.2726 - val_accuracy: 0.9028\n",
            "Epoch 3/8\n",
            "844/844 [==============================] - 25s 29ms/step - loss: 0.2331 - accuracy: 0.9148 - val_loss: 0.2592 - val_accuracy: 0.9072\n",
            "Epoch 4/8\n",
            "844/844 [==============================] - 26s 30ms/step - loss: 0.2043 - accuracy: 0.9252 - val_loss: 0.2593 - val_accuracy: 0.9080\n",
            "Epoch 5/8\n",
            "844/844 [==============================] - 23s 27ms/step - loss: 0.1771 - accuracy: 0.9355 - val_loss: 0.2401 - val_accuracy: 0.9128\n",
            "Epoch 6/8\n",
            "844/844 [==============================] - 23s 28ms/step - loss: 0.1576 - accuracy: 0.9415 - val_loss: 0.2429 - val_accuracy: 0.9143\n",
            "Epoch 7/8\n",
            "844/844 [==============================] - 24s 29ms/step - loss: 0.1376 - accuracy: 0.9500 - val_loss: 0.2396 - val_accuracy: 0.9192\n",
            "Epoch 8/8\n",
            "844/844 [==============================] - 25s 29ms/step - loss: 0.1201 - accuracy: 0.9561 - val_loss: 0.2540 - val_accuracy: 0.9195\n"
          ]
        },
        {
          "output_type": "execute_result",
          "data": {
            "text/plain": [
              "<keras.src.callbacks.History at 0x7f811c202740>"
            ]
          },
          "metadata": {},
          "execution_count": 11
        }
      ]
    },
    {
      "cell_type": "code",
      "source": [
        "model.evaluate(x=x_test,\n",
        "  y=y_test,\n",
        "  batch_size=None,\n",
        "  verbose='auto',\n",
        "  return_dict=True)"
      ],
      "metadata": {
        "colab": {
          "base_uri": "https://localhost:8080/"
        },
        "id": "JICR-ezZ_P1v",
        "outputId": "5f5ebc75-b482-4dd0-9a25-cee72eafbce6"
      },
      "execution_count": 12,
      "outputs": [
        {
          "output_type": "stream",
          "name": "stdout",
          "text": [
            "313/313 [==============================] - 2s 5ms/step - loss: 0.2705 - accuracy: 0.9136\n"
          ]
        },
        {
          "output_type": "execute_result",
          "data": {
            "text/plain": [
              "{'loss': 0.2704787254333496, 'accuracy': 0.9136000275611877}"
            ]
          },
          "metadata": {},
          "execution_count": 12
        }
      ]
    }
  ]
}