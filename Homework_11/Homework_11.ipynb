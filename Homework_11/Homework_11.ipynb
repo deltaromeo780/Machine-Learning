{
  "nbformat": 4,
  "nbformat_minor": 0,
  "metadata": {
    "colab": {
      "provenance": [],
      "gpuType": "T4"
    },
    "kernelspec": {
      "name": "python3",
      "display_name": "Python 3"
    },
    "language_info": {
      "name": "python"
    },
    "accelerator": "GPU"
  },
  "cells": [
    {
      "cell_type": "code",
      "execution_count": 1,
      "metadata": {
        "id": "FjvNyvULEacB"
      },
      "outputs": [],
      "source": [
        "import numpy as np\n",
        "from keras.datasets import imdb\n",
        "from keras.preprocessing.sequence import pad_sequences\n",
        "from keras.models import Sequential\n",
        "from keras.layers import Embedding, SimpleRNN, LSTM, Bidirectional, Dense\n",
        "from keras.optimizers import Adam\n",
        "from sklearn.metrics import accuracy_score\n"
      ]
    },
    {
      "cell_type": "code",
      "source": [
        "# Ładowanie danych\n",
        "max_features = 10000  # Liczba unikalnych słów (tokenów)\n",
        "maxlen = 500  # Maksymalna długość recenzji\n",
        "\n",
        "(x_train, y_train), (x_test, y_test) = imdb.load_data(num_words=max_features)\n",
        "\n",
        "# Dodawanie paddingu do sekwencji\n",
        "x_train = pad_sequences(x_train, maxlen=maxlen)\n",
        "x_test = pad_sequences(x_test, maxlen=maxlen)\n"
      ],
      "metadata": {
        "colab": {
          "base_uri": "https://localhost:8080/"
        },
        "collapsed": true,
        "id": "rWQd3EYzE2Hf",
        "outputId": "0c8103e1-0e0a-4916-8ba5-a1c763a3b3db"
      },
      "execution_count": 2,
      "outputs": [
        {
          "output_type": "stream",
          "name": "stdout",
          "text": [
            "Downloading data from https://storage.googleapis.com/tensorflow/tf-keras-datasets/imdb.npz\n",
            "17464789/17464789 [==============================] - 0s 0us/step\n"
          ]
        }
      ]
    },
    {
      "cell_type": "markdown",
      "source": [
        "Budujemy modele sieci"
      ],
      "metadata": {
        "id": "_belBJi-FExT"
      }
    },
    {
      "cell_type": "code",
      "source": [
        "# Simple RNN\n",
        "def build_simple_rnn():\n",
        "    model = Sequential()\n",
        "    model.add(Embedding(max_features, 128))\n",
        "    model.add(SimpleRNN(128))\n",
        "    model.add(Dense(1, activation='sigmoid'))\n",
        "    model.compile(optimizer='adam', loss='binary_crossentropy', metrics=['accuracy'])\n",
        "    return model\n"
      ],
      "metadata": {
        "id": "xVwEX__gFJqo"
      },
      "execution_count": 3,
      "outputs": []
    },
    {
      "cell_type": "code",
      "source": [
        "# LSTM\n",
        "def build_lstm():\n",
        "    model = Sequential()\n",
        "    model.add(Embedding(max_features, 128))\n",
        "    model.add(LSTM(128))\n",
        "    model.add(Dense(1, activation='sigmoid'))\n",
        "    model.compile(optimizer='adam', loss='binary_crossentropy', metrics=['accuracy'])\n",
        "    return model"
      ],
      "metadata": {
        "id": "NVPcP2MOFYoz"
      },
      "execution_count": 4,
      "outputs": []
    },
    {
      "cell_type": "code",
      "source": [
        "# Dwukierunkowa LSTM\n",
        "def build_bidirectional_lstm():\n",
        "    model = Sequential()\n",
        "    model.add(Embedding(max_features, 128))\n",
        "    model.add(Bidirectional(LSTM(128)))\n",
        "    model.add(Dense(1, activation='sigmoid'))\n",
        "    model.compile(optimizer='adam', loss='binary_crossentropy', metrics=['accuracy'])\n",
        "    return model\n"
      ],
      "metadata": {
        "id": "4UYj0HYQFp1x"
      },
      "execution_count": 5,
      "outputs": []
    },
    {
      "cell_type": "markdown",
      "source": [
        "Wytrenowanie i ocena modeli"
      ],
      "metadata": {
        "id": "KfAlzopEHVo0"
      }
    },
    {
      "cell_type": "code",
      "source": [
        "def train_and_evaluate_model(model, x_train, y_train, x_test, y_test, epochs=10, batch_size=32):\n",
        "    model.fit(x_train, y_train, epochs=epochs, batch_size=batch_size, validation_split=0.2)\n",
        "    y_pred = (model.predict(x_test) > 0.5).astype(\"int32\")\n",
        "    accuracy = accuracy_score(y_test, y_pred)\n",
        "    return accuracy\n"
      ],
      "metadata": {
        "id": "M1id7v0XHZ2e"
      },
      "execution_count": 10,
      "outputs": []
    },
    {
      "cell_type": "markdown",
      "source": [
        "Porównanie stworzonych modeli"
      ],
      "metadata": {
        "id": "saO8n9xaHpfp"
      }
    },
    {
      "cell_type": "code",
      "source": [
        "# Simple RNN\n",
        "simple_rnn_model = build_simple_rnn()\n",
        "simple_rnn_accuracy = train_and_evaluate_model(simple_rnn_model, x_train, y_train, x_test, y_test)\n",
        "print(f'Simple RNN Accuracy: {simple_rnn_accuracy}')"
      ],
      "metadata": {
        "colab": {
          "base_uri": "https://localhost:8080/"
        },
        "id": "ZlJZ4pptHuI6",
        "outputId": "f19e875a-f797-4777-a966-20800618fce4"
      },
      "execution_count": 11,
      "outputs": [
        {
          "output_type": "stream",
          "name": "stdout",
          "text": [
            "Epoch 1/10\n",
            "625/625 [==============================] - 262s 418ms/step - loss: 0.6648 - accuracy: 0.5752 - val_loss: 0.6084 - val_accuracy: 0.6614\n",
            "Epoch 2/10\n",
            "625/625 [==============================] - 240s 384ms/step - loss: 0.5605 - accuracy: 0.7063 - val_loss: 0.6369 - val_accuracy: 0.6176\n",
            "Epoch 3/10\n",
            "625/625 [==============================] - 232s 372ms/step - loss: 0.5053 - accuracy: 0.7515 - val_loss: 0.5963 - val_accuracy: 0.6936\n",
            "Epoch 4/10\n",
            "625/625 [==============================] - 223s 358ms/step - loss: 0.4660 - accuracy: 0.7780 - val_loss: 0.6233 - val_accuracy: 0.6862\n",
            "Epoch 5/10\n",
            "625/625 [==============================] - 225s 361ms/step - loss: 0.4102 - accuracy: 0.8185 - val_loss: 0.5937 - val_accuracy: 0.7246\n",
            "Epoch 6/10\n",
            "625/625 [==============================] - 228s 366ms/step - loss: 0.3419 - accuracy: 0.8578 - val_loss: 0.5799 - val_accuracy: 0.7438\n",
            "Epoch 7/10\n",
            "625/625 [==============================] - 227s 363ms/step - loss: 0.2919 - accuracy: 0.8853 - val_loss: 0.6011 - val_accuracy: 0.7374\n",
            "Epoch 8/10\n",
            "625/625 [==============================] - 229s 366ms/step - loss: 0.3656 - accuracy: 0.8386 - val_loss: 0.6352 - val_accuracy: 0.7358\n",
            "Epoch 9/10\n",
            "625/625 [==============================] - 222s 355ms/step - loss: 0.2879 - accuracy: 0.8779 - val_loss: 0.6807 - val_accuracy: 0.6412\n",
            "Epoch 10/10\n",
            "625/625 [==============================] - 227s 363ms/step - loss: 0.3685 - accuracy: 0.8346 - val_loss: 0.6800 - val_accuracy: 0.5736\n",
            "782/782 [==============================] - 29s 37ms/step\n",
            "Simple RNN Accuracy: 0.56588\n"
          ]
        }
      ]
    },
    {
      "cell_type": "markdown",
      "source": [
        "czas dla 5 epoch 20 min Accuracy : 075016\n",
        "czas dla 10 epoch 40 min Accuracy : 056588\n",
        "zwiększenie ilości epoch źle wpłyneło\n",
        "najwyższw accuracy: było w 7 epoch 08853"
      ],
      "metadata": {
        "id": "mJO7Ui6pNdmJ"
      }
    },
    {
      "cell_type": "code",
      "source": [
        "# LSTM\n",
        "lstm_model = build_lstm()\n",
        "lstm_accuracy = train_and_evaluate_model(lstm_model, x_train, y_train, x_test, y_test)\n",
        "print(f'LSTM Accuracy: {lstm_accuracy}')"
      ],
      "metadata": {
        "colab": {
          "base_uri": "https://localhost:8080/"
        },
        "id": "3cd2S92QIJSd",
        "outputId": "e37cad5c-4455-4e9c-98f2-3a95ceb23dc3"
      },
      "execution_count": 12,
      "outputs": [
        {
          "output_type": "stream",
          "name": "stdout",
          "text": [
            "Epoch 1/10\n",
            "625/625 [==============================] - 53s 82ms/step - loss: 0.4647 - accuracy: 0.7797 - val_loss: 0.3956 - val_accuracy: 0.8458\n",
            "Epoch 2/10\n",
            "625/625 [==============================] - 25s 41ms/step - loss: 0.3024 - accuracy: 0.8781 - val_loss: 0.3612 - val_accuracy: 0.8480\n",
            "Epoch 3/10\n",
            "625/625 [==============================] - 18s 29ms/step - loss: 0.2066 - accuracy: 0.9191 - val_loss: 0.3509 - val_accuracy: 0.8566\n",
            "Epoch 4/10\n",
            "625/625 [==============================] - 16s 26ms/step - loss: 0.1577 - accuracy: 0.9423 - val_loss: 0.6867 - val_accuracy: 0.7150\n",
            "Epoch 5/10\n",
            "625/625 [==============================] - 16s 25ms/step - loss: 0.2311 - accuracy: 0.9036 - val_loss: 0.3874 - val_accuracy: 0.8614\n",
            "Epoch 6/10\n",
            "625/625 [==============================] - 14s 23ms/step - loss: 0.1049 - accuracy: 0.9635 - val_loss: 0.4675 - val_accuracy: 0.8434\n",
            "Epoch 7/10\n",
            "625/625 [==============================] - 14s 23ms/step - loss: 0.0711 - accuracy: 0.9760 - val_loss: 0.5394 - val_accuracy: 0.8562\n",
            "Epoch 8/10\n",
            "625/625 [==============================] - 13s 22ms/step - loss: 0.0891 - accuracy: 0.9686 - val_loss: 0.5037 - val_accuracy: 0.8530\n",
            "Epoch 9/10\n",
            "625/625 [==============================] - 13s 21ms/step - loss: 0.0513 - accuracy: 0.9834 - val_loss: 0.6336 - val_accuracy: 0.8544\n",
            "Epoch 10/10\n",
            "625/625 [==============================] - 13s 21ms/step - loss: 0.0326 - accuracy: 0.9905 - val_loss: 0.6814 - val_accuracy: 0.8572\n",
            "782/782 [==============================] - 6s 7ms/step\n",
            "LSTM Accuracy: 0.8546\n"
          ]
        }
      ]
    },
    {
      "cell_type": "markdown",
      "source": [
        "czas dla 5 epoch 2,21s Accuracy: 087024\n",
        "czas dla 10 epoch 2,5 min Accuracy 08546\n",
        "w tych warunkach nastąpił overfitting ponieważ w 10 epoce accuracy wyniosło 99%"
      ],
      "metadata": {
        "id": "Lf2jbDBnOXo3"
      }
    },
    {
      "cell_type": "code",
      "source": [
        "# Dwukierunkowa LSTM\n",
        "bidirectional_lstm_model = build_bidirectional_lstm()\n",
        "bidirectional_lstm_accuracy = train_and_evaluate_model(bidirectional_lstm_model, x_train, y_train, x_test, y_test)\n",
        "print(f'Bidirectional LSTM Accuracy: {bidirectional_lstm_accuracy}')"
      ],
      "metadata": {
        "colab": {
          "base_uri": "https://localhost:8080/"
        },
        "id": "xYq4h5yxIQX6",
        "outputId": "92403b41-87fd-41f1-c14d-5793fd1420c3"
      },
      "execution_count": 13,
      "outputs": [
        {
          "output_type": "stream",
          "name": "stdout",
          "text": [
            "Epoch 1/10\n",
            "625/625 [==============================] - 65s 97ms/step - loss: 0.4550 - accuracy: 0.7852 - val_loss: 0.3838 - val_accuracy: 0.8306\n",
            "Epoch 2/10\n",
            "625/625 [==============================] - 36s 58ms/step - loss: 0.3032 - accuracy: 0.8790 - val_loss: 0.3360 - val_accuracy: 0.8632\n",
            "Epoch 3/10\n",
            "625/625 [==============================] - 28s 45ms/step - loss: 0.1896 - accuracy: 0.9291 - val_loss: 0.3301 - val_accuracy: 0.8580\n",
            "Epoch 4/10\n",
            "625/625 [==============================] - 27s 42ms/step - loss: 0.1350 - accuracy: 0.9504 - val_loss: 0.4466 - val_accuracy: 0.8594\n",
            "Epoch 5/10\n",
            "625/625 [==============================] - 26s 42ms/step - loss: 0.1234 - accuracy: 0.9551 - val_loss: 0.4483 - val_accuracy: 0.8436\n",
            "Epoch 6/10\n",
            "625/625 [==============================] - 25s 40ms/step - loss: 0.1061 - accuracy: 0.9613 - val_loss: 0.4712 - val_accuracy: 0.8404\n",
            "Epoch 7/10\n",
            "625/625 [==============================] - 25s 39ms/step - loss: 0.1273 - accuracy: 0.9510 - val_loss: 0.4848 - val_accuracy: 0.8466\n",
            "Epoch 8/10\n",
            "625/625 [==============================] - 24s 38ms/step - loss: 0.0598 - accuracy: 0.9797 - val_loss: 0.5815 - val_accuracy: 0.8470\n",
            "Epoch 9/10\n",
            "625/625 [==============================] - 24s 39ms/step - loss: 0.0372 - accuracy: 0.9877 - val_loss: 0.7306 - val_accuracy: 0.8410\n",
            "Epoch 10/10\n",
            "625/625 [==============================] - 24s 39ms/step - loss: 0.0306 - accuracy: 0.9913 - val_loss: 0.6967 - val_accuracy: 0.8370\n",
            "782/782 [==============================] - 11s 13ms/step\n",
            "Bidirectional LSTM Accuracy: 0.84004\n"
          ]
        }
      ]
    },
    {
      "cell_type": "markdown",
      "source": [
        "czas dla 5 epoch 3min 22s Accuracy: 085596 analogiczna sytuacja jak wyżej czas 5 min Accuracy 084004"
      ],
      "metadata": {
        "id": "hNcBdwbePdLY"
      }
    },
    {
      "cell_type": "markdown",
      "source": [
        "Podsumowanie: Najlepszy wynik uzystał model LSTM z Wynikiem 87% następnie dwukierunkowy LSTM 85,5% obydwa modele były szybkie z czasem około 3 minut natomiast simple RNN uzyskał wynik 75% ale z czasem 20 min dla 5 epoch"
      ],
      "metadata": {
        "id": "zE0Z1KBYdTwx"
      }
    }
  ]
}