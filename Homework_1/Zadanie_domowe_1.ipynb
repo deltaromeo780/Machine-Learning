{
 "cells": [
  {
   "cell_type": "markdown",
   "id": "1eb616b7-8827-4015-a9a2-5d870f9514a3",
   "metadata": {},
   "source": [
    "1.Utwórz jednowymiarową tablicę (wektor) z pierwszymi 10 dodatnimi liczbami całkowitymi i wyświetl jej wartość."
   ]
  },
  {
   "cell_type": "code",
   "execution_count": null,
   "id": "a3180404-0d9a-47ab-ba8f-0968d5804d1a",
   "metadata": {},
   "outputs": [],
   "source": [
    "import numpy as np\n",
    "\n",
    "vector = np.arange(1, 11)\n",
    "print(\"Wektor:\", vector)"
   ]
  },
  {
   "cell_type": "markdown",
   "id": "c273a980-5185-4330-a723-452c72d46f94",
   "metadata": {},
   "source": [
    "2.Utwórz dwuwymiarową tablicę (macierz) o rozmiarze 3x3, wypełnij ją zerami i wyświetl jej wartość."
   ]
  },
  {
   "cell_type": "code",
   "execution_count": null,
   "id": "f6b48c47-d11e-442f-8a34-c782c460084a",
   "metadata": {},
   "outputs": [],
   "source": [
    "matrix = np.zeros((3, 3))\n",
    "\n",
    "print(\"Macierz wypełniona zerami:\")\n",
    "print(matrix)"
   ]
  },
  {
   "cell_type": "markdown",
   "id": "f05738b7-1827-4708-bfe1-6bf464d4b983",
   "metadata": {},
   "source": [
    "3.Utwórz tablicę o rozmiarze 5x5, wypełnij ją losowymi liczbami całkowitymi z zakresu od 1 do 10 i wyświetl jej wartość."
   ]
  },
  {
   "cell_type": "code",
   "execution_count": null,
   "id": "580f6566-0a83-48b1-832d-987b8abc90c6",
   "metadata": {},
   "outputs": [],
   "source": [
    "matrix  = np.random.randint(1, 11, (5, 5))\n",
    "\n",
    "print(\"Macierz wypełniona losowymi liczbami całkowitymi:\")\n",
    "print(matrix)"
   ]
  },
  {
   "cell_type": "markdown",
   "id": "74d9511f-a5df-474e-a8f8-b7bc39ac9496",
   "metadata": {},
   "source": [
    "4.Utwórz tablicę o rozmiarze 4x4, wypełnij ją losowymi liczbami rzeczywistymi z zakresu od 0 do 1 i wyświetl jej wartość."
   ]
  },
  {
   "cell_type": "code",
   "execution_count": null,
   "id": "a628fec8-9076-4440-83af-7a0dbdabf2a3",
   "metadata": {},
   "outputs": [],
   "source": [
    "matrix = np.random.rand(4, 4)\n",
    "\n",
    "print(\"Macierz wypełniona losowymi liczbami rzeczywistymi:\")\n",
    "print(matrix)"
   ]
  },
  {
   "cell_type": "markdown",
   "id": "fe62ccc5-7d47-4b76-b759-4ba621b61acd",
   "metadata": {},
   "source": [
    "5.Utwórz dwie jednowymiarowe tablice o rozmiarze 5, wypełnij je losowymi liczbami całkowitymi z zakresu od 1 do 10 i wykonaj na nich operacje dodawania, odejmowania i mnożenia."
   ]
  },
  {
   "cell_type": "code",
   "execution_count": null,
   "id": "5da6e810-7d4f-4e05-8889-299cc4138b15",
   "metadata": {},
   "outputs": [],
   "source": [
    "matrix1 = np.random.randint(1, 11, 5)\n",
    "matrix2 = np.random.randint(1, 11, 5)\n",
    "\n",
    "# Dodawanie\n",
    "suma = matrix1 + matrix2\n",
    "print(\"Wynik dodawania:\", suma)\n",
    "\n",
    "# Odejmowanie\n",
    "roznica = matrix1 - matrix2\n",
    "print(\"Wynik odejmowania:\", roznica)\n",
    "\n",
    "# Mnożenie\n",
    "iloczyn = matrix1 * matrix2\n",
    "print(\"Wynik mnożenia:\", iloczyn)\n"
   ]
  },
  {
   "cell_type": "markdown",
   "id": "5caec71a-97e0-4338-8067-ca114e7eba15",
   "metadata": {},
   "source": [
    "6.Utwórz dwa wektory o rozmiarze 7, wypełnij je losowymi liczbami i znajdź ich iloczyn skalarny."
   ]
  },
  {
   "cell_type": "code",
   "execution_count": null,
   "id": "55e504c5-d1ca-41bf-b6e6-039a2a1e46ca",
   "metadata": {},
   "outputs": [],
   "source": [
    "vector1 = np.random.rand(7)\n",
    "vector2 = np.random.rand(7)\n",
    "\n",
    "iloczyn_skalarny = np.dot(vector1, vector2)\n",
    "print(\"Iloczyn skalarny:\", iloczyn_skalarny)"
   ]
  },
  {
   "cell_type": "markdown",
   "id": "811bdae8-b127-49a9-a13f-a4baa956249b",
   "metadata": {},
   "source": [
    "7.Utwórz dwie macierze o rozmiarach 2x2 i 2x3, wypełnij je losowymi liczbami całkowitymi z zakresu od 1 do 10 i pomnóż je."
   ]
  },
  {
   "cell_type": "code",
   "execution_count": null,
   "id": "6f47d0e5-4a12-4075-90d8-acddcca17c50",
   "metadata": {},
   "outputs": [],
   "source": [
    "matrix1 = np.random.randint(1, 11, (2, 2))\n",
    "matrix2 = np.random.randint(1, 11, (2, 3))\n",
    "\n",
    "iloczyn = np.dot(matrix1, matrix2)\n",
    "print(\"Wynik mnożenia macierzy:\")\n",
    "print(iloczyn)"
   ]
  },
  {
   "cell_type": "markdown",
   "id": "bf2e32f4-f5fb-4623-b742-e979cab36441",
   "metadata": {},
   "source": [
    "8.Utwórz macierz o rozmiarze 3x3, wypełnij ją losowymi liczbami całkowitymi z zakresu od 1 do 10 i znajdź jej odwrotność."
   ]
  },
  {
   "cell_type": "code",
   "execution_count": null,
   "id": "de03960c-4060-4172-842a-00d2aac88f70",
   "metadata": {},
   "outputs": [],
   "source": [
    "matrix = np.random.randint(1, 11, (3, 3))\n",
    "\n",
    "# Sprawdzamy, czy macierz jest macierzą kwadratową\n",
    "if matrix.shape[0] == matrix.shape[1]:\n",
    "    \n",
    "    # Sprawdź, czy macierz jest macierzą nieosobliwą\n",
    "    if np.linalg.det(matrix) != 0:\n",
    "        \n",
    "        # Oblicz odwrotność macierzy\n",
    "        inv_matrix = np.linalg.inv(matrix)\n",
    "        # Wyświetl odwrotność macierzy\n",
    "        print(\"\\nOdwrotność macierzy:\")\n",
    "        print(inv_matrix)\n",
    "    else:\n",
    "        print(\"Macierz jest osobliwa, nie można obliczyć jej odwrotności.\")\n",
    "else:\n",
    "    print(\"Macierz nie jest kwadratowa, nie można obliczyć jej odwrotności.\")\n",
    "    \n",
    "    "
   ]
  },
  {
   "cell_type": "markdown",
   "id": "90b2820d-8d3c-469f-a2d3-3aeb364dd08a",
   "metadata": {},
   "source": [
    "9.Utwórz macierz 4x4, wypełnij ją losowymi liczbami rzeczywistymi z zakresu od 0 do 1 i przetransponuj ją."
   ]
  },
  {
   "cell_type": "code",
   "execution_count": null,
   "id": "9785651f-7073-4e1e-b5fc-aa13e61365a7",
   "metadata": {},
   "outputs": [],
   "source": [
    "matrix = np.random.rand(4, 4)\n",
    "\n",
    "trans_matrix = matrix.T\n",
    "print(\"trans_matrix:\\n\", trans_matrix)"
   ]
  },
  {
   "cell_type": "markdown",
   "id": "a9f47a64-3d60-4f00-990c-7d526f2bb0e2",
   "metadata": {},
   "source": [
    "10.Utwórz macierz o rozmiarze 3x4 i wektor o rozmiarze 4, wypełnij je losowymi liczbami całkowitymi z zakresu od 1 do 10 i pomnóż macierz przez wektor."
   ]
  },
  {
   "cell_type": "code",
   "execution_count": null,
   "id": "11e0a1fb-c840-46ac-9f81-728b8e879aba",
   "metadata": {},
   "outputs": [],
   "source": [
    "matrix = np.random.randint(1, 11, (3, 4))\n",
    "vector = np.random.randint(1, 11, 4)\n",
    "\n",
    "iloczyn = np.dot(matrix, vector)\n",
    "\n",
    "print(\"\\nWynik mnożenia macierzy przez wektor:\")\n",
    "print(iloczyn)"
   ]
  },
  {
   "cell_type": "markdown",
   "id": "e122f8a2-68bd-44cb-a061-fb06b010f958",
   "metadata": {},
   "source": [
    "11.Utwórz macierz o rozmiarze 2x3 i wektor o rozmiarze 3, wypełnij je losowymi liczbami rzeczywistymi z zakresu od 0 do 1 i pomnóż macierz przez wektor."
   ]
  },
  {
   "cell_type": "code",
   "execution_count": null,
   "id": "a044f195-dc90-43a7-b5d5-eeb161550164",
   "metadata": {},
   "outputs": [],
   "source": [
    "matrix = np.random.rand(2, 3)\n",
    "vector = np.random.rand(3)\n",
    "\n",
    "iloczyn = np.dot(matrix, vector)\n",
    "\n",
    "print(\"\\nWynik mnożenia macierzy przez wektor:\")\n",
    "print(iloczyn)"
   ]
  },
  {
   "cell_type": "markdown",
   "id": "158921a9-5a76-47a4-b190-fbce6026ed16",
   "metadata": {},
   "source": [
    "12.Utwórz dwie macierze o rozmiarze 2x2, wypełnij je losowymi liczbami całkowitymi z zakresu od 1 do 10 i wykonaj ich mnożenie pierwiastkowe."
   ]
  },
  {
   "cell_type": "code",
   "execution_count": null,
   "id": "27339708-2046-40de-93be-61f67e732911",
   "metadata": {},
   "outputs": [],
   "source": [
    "matrix1 = np.random.randint(1, 11, (2, 2))\n",
    "matrix2 = np.random.randint(1, 11, (2, 2))\n",
    "\n",
    "m_pierwiastkowe = np.multiply(matrix1, matrix2)\n",
    "\n",
    "print(\"\\nWynik mnożenia pierwiastkowego macierzy:\")\n",
    "print(m_pierwiastkowe)"
   ]
  },
  {
   "cell_type": "markdown",
   "id": "dd77779a-adbc-46fb-ad5a-f260908d96d6",
   "metadata": {},
   "source": [
    "13.Utwórz dwie macierze o rozmiarze 2x2, wypełnij je losowymi liczbami całkowitymi z zakresu od 1 do 10 i znajdź ich iloczyn."
   ]
  },
  {
   "cell_type": "code",
   "execution_count": null,
   "id": "b1aac7a8-7509-402d-b00e-ccce517d93c7",
   "metadata": {},
   "outputs": [],
   "source": [
    "matrix1 = np.random.randint(1, 11, (2, 2))\n",
    "matrix2 = np.random.randint(1, 11, (2, 2))\n",
    "\n",
    "iloczyn = np.dot(matrix1, matrix2)\n",
    "\n",
    "print(\"\\nIloczyn macierzy:\")\n",
    "print(iloczyn)"
   ]
  },
  {
   "cell_type": "markdown",
   "id": "d74effc4-da2b-4bfe-b472-659fccd8632b",
   "metadata": {},
   "source": [
    "14.Utwórz macierz 5x5, wypełnij ją losowymi liczbami całkowitymi z zakresu od 1 do 100 i znajdź sumę elementów macierzy."
   ]
  },
  {
   "cell_type": "code",
   "execution_count": null,
   "id": "4eeb54ec-6b93-432e-901c-d161a0446822",
   "metadata": {},
   "outputs": [],
   "source": [
    "matrix = np.random.randint(1, 101, (5, 5))\n",
    "\n",
    "suma_el = np.sum(matrix)\n",
    "\n",
    "print(\"\\nSuma elementów macierzy:\", suma_el)"
   ]
  },
  {
   "cell_type": "markdown",
   "id": "c65816d1-31ee-4379-bc71-bb0cb829e581",
   "metadata": {},
   "source": [
    "15.Utwórz dwie macierze o rozmiarze 4x4, wypełnij je losowymi liczbami całkowitymi z zakresu od 1 do 10 i znajdź ich różnicę."
   ]
  },
  {
   "cell_type": "code",
   "execution_count": null,
   "id": "7bfb466c-0b25-4331-9632-4a50860b7a6f",
   "metadata": {},
   "outputs": [],
   "source": [
    "matrix1 = np.random.randint(1, 11, (4, 4))\n",
    "matrix2 = np.random.randint(1, 11, (4, 4))\n",
    "\n",
    "roznica = np.subtract(matrix1, matrix2)\n",
    "\n",
    "print(\"\\nRóżnica między macierzami:\")\n",
    "print(roznica)"
   ]
  },
  {
   "cell_type": "markdown",
   "id": "54cebfcc-b015-4b6a-abab-6545f56e298a",
   "metadata": {},
   "source": [
    "16.Utwórz macierz 3x3, wypełnij ją losowymi liczbami rzeczywistymi z zakresu od 0 do 1 i znajdź wektor kolumnowy zawierający sumę elementów każdego wiersza macierzy."
   ]
  },
  {
   "cell_type": "code",
   "execution_count": null,
   "id": "413514a4-843f-46c1-8a29-caa4e054e6c6",
   "metadata": {},
   "outputs": [],
   "source": [
    "matrix = np.random.rand(3, 3)\n",
    "\n",
    "vector_sumy = np.sum(matrix, axis=1, keepdims=True)\n",
    "\n",
    "print(\"\\nWektor kolumnowy zawierający sumę elementów każdego wiersza:\")\n",
    "print(vector_sumy)"
   ]
  },
  {
   "cell_type": "markdown",
   "id": "e7fdd8e9-f080-4dc9-becf-3ee4929b181c",
   "metadata": {},
   "source": [
    "17.Utwórz macierz o rozmiarze 3x4 z dowolnymi liczbami całkowitymi i utwórz macierz z kwadratami tych liczb."
   ]
  },
  {
   "cell_type": "code",
   "execution_count": null,
   "id": "e7163fd1-55d6-472f-8578-775a902fde7e",
   "metadata": {},
   "outputs": [],
   "source": [
    "matrix = np.array([[2, 3, 4, 5],\n",
    "                    [1, 6, 7, 8],\n",
    "                    [9, 10, 11, 12]])\n",
    "\n",
    "square_matrix = np.square(matrix)\n",
    "\n",
    "print(\"\\nMacierz z kwadratami liczb:\")\n",
    "print(square_matrix)"
   ]
  },
  {
   "cell_type": "markdown",
   "id": "3b7aece7-5c88-4072-9ac3-36c3ee730370",
   "metadata": {},
   "source": [
    "18.Utwórz wektor o rozmiarze 4, wypełnij go losowymi liczbami całkowitymi z zakresu od 1 do 50 i znajdź wektor pierwiastków kwadratowych z tych liczb."
   ]
  },
  {
   "cell_type": "code",
   "execution_count": null,
   "id": "972fa033-490b-45c7-aada-1ca20c33ae95",
   "metadata": {},
   "outputs": [],
   "source": [
    "vector = np.random.randint(1, 51, 4)\n",
    "\n",
    "wektor_pierwiastkowy = np.sqrt(vector)\n",
    "\n",
    "print(\"\\nWektor pierwiastków kwadratowych:\")\n",
    "print(wektor_pierwiastkowy)"
   ]
  }
 ],
 "metadata": {
  "kernelspec": {
   "display_name": "Python 3 (ipykernel)",
   "language": "python",
   "name": "python3"
  },
  "language_info": {
   "codemirror_mode": {
    "name": "ipython",
    "version": 3
   },
   "file_extension": ".py",
   "mimetype": "text/x-python",
   "name": "python",
   "nbconvert_exporter": "python",
   "pygments_lexer": "ipython3",
   "version": "3.12.2"
  }
 },
 "nbformat": 4,
 "nbformat_minor": 5
}
