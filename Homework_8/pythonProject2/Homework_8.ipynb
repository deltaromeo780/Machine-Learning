{
 "nbformat": 4,
 "nbformat_minor": 0,
 "metadata": {
  "kernelspec": {
   "name": "python3",
   "language": "python",
   "display_name": "Python 3 (ipykernel)"
  },
  "language_info": {
   "codemirror_mode": {
    "name": "ipython",
    "version": 3
   },
   "file_extension": ".py",
   "mimetype": "text/x-python",
   "name": "python",
   "nbconvert_exporter": "python",
   "pygments_lexer": "ipython3",
   "version": "3.8.0"
  },
  "colab": {
   "provenance": [],
   "gpuType": "T4",
   "include_colab_link": true
  },
  "accelerator": "GPU"
 },
 "cells": [
  {
   "cell_type": "markdown",
   "metadata": {
    "id": "view-in-github",
    "colab_type": "text"
   },
   "source": [
    "<a href=\"https://colab.research.google.com/github/koc90/part_3_homework_8/blob/main/Hw8_tensorflow_mnist_hw.ipynb\" target=\"_parent\"><img src=\"https://colab.research.google.com/assets/colab-badge.svg\" alt=\"Open In Colab\"/></a>"
   ]
  },
  {
   "cell_type": "markdown",
   "metadata": {
    "id": "b0Yf4NBJUSNM"
   },
   "source": [
    "# Tworzenie sieci neuronowej\n",
    "\n",
    "W tym zadaniu stworzymy w pełni połączoną sieć neuronową przy użyciu niskopoziomowych mechanizmów tensorflow.\n",
    "\n",
    "Architektura sieci neuronowej została przedstawiona na poniższym rysunku. Jak widać, ma ona jedną warstwę wejściową, dwie warstwy ukryte i warstwę wyjściową. W warstwach ukrytych wykorzystamy sigmoid jako funkcję aktywacji. Na warstwie wyjściowej użyjemy softmax.\n",
    "\n",
    "Część kodu do utworzenia sieci została już napisana, musisz wypełnić puste miejsca w określonych miejscach."
   ]
  },
  {
   "cell_type": "markdown",
   "metadata": {
    "id": "01rZWUu0USNQ"
   },
   "source": [
    "## Architektura sieci neuronowej\n",
    "\n",
    "<img src=\"http://cs231n.github.io/assets/nn1/neural_net2.jpeg\" alt=\"nn\" style=\"width: 400px;\"/>\n"
   ]
  },
  {
   "cell_type": "markdown",
   "metadata": {
    "id": "LLvIZ705Qw_V"
   },
   "source": [
    "## Informacje o zestawie danych MNIST\n",
    "\n",
    "Będziemy trenować tę sieć neuronową na zbiorze danych MNIST. Ten zbiór danych to duża liczba odręcznych obrazów cyfr składających się z 28 razy 28 pikseli. Każdy piksel przyjmuje wartość od 0 do 255.\n",
    "\n",
    "Tak jak poprzednio, zbiór danych zostanie podzielony na próbki treningowe i testowe. Znormalizujemy wszystkie obrazy tak, aby wartości pikseli wynosiły od 0 do 1, dzieląc jasność każdego piksela przez 255.\n",
    "\n",
    "Ponadto architektura sieci neuronowej oczekuje wektora jako danych wejściowych. W naszym przypadku jednak każdy przykładowy obiekt jest macierzą. Co należy zrobić? W tym zadaniu \"rozciągniemy\" macierz 28 razy 28$, uzyskując w ten sposób wektor składający się z 784 elementów.\n",
    "\n",
    "![MNIST Dataset](https://www.researchgate.net/profile/Steven-Young-5/publication/306056875/figure/fig1/AS:393921575309346@1470929630835/Example-images-from-the-MNIST-dataset.png)\n",
    "\n",
    "Więcej informacji na temat zbioru danych można znaleźć na stronie [tutaj](http://yann.lecun.com/exdb/mnist/)."
   ]
  },
  {
   "cell_type": "code",
   "metadata": {
    "id": "il_0_5OyUSNR",
    "ExecuteTime": {
     "end_time": "2024-06-30T19:14:04.618079Z",
     "start_time": "2024-06-30T19:13:30.290084Z"
    }
   },
   "source": [
    "%pip install tensorflow\n",
    "%pip install numpy\n",
    "%pip install matplotlib"
   ],
   "execution_count": 1,
   "outputs": [
    {
     "name": "stdout",
     "output_type": "stream",
     "text": [
      "Collecting tensorflow\r\n",
      "  Downloading tensorflow-2.16.2-cp312-cp312-macosx_12_0_arm64.whl.metadata (4.1 kB)\r\n",
      "Collecting absl-py>=1.0.0 (from tensorflow)\r\n",
      "  Downloading absl_py-2.1.0-py3-none-any.whl.metadata (2.3 kB)\r\n",
      "Collecting astunparse>=1.6.0 (from tensorflow)\r\n",
      "  Downloading astunparse-1.6.3-py2.py3-none-any.whl.metadata (4.4 kB)\r\n",
      "Collecting flatbuffers>=23.5.26 (from tensorflow)\r\n",
      "  Downloading flatbuffers-24.3.25-py2.py3-none-any.whl.metadata (850 bytes)\r\n",
      "Collecting gast!=0.5.0,!=0.5.1,!=0.5.2,>=0.2.1 (from tensorflow)\r\n",
      "  Downloading gast-0.6.0.tar.gz (27 kB)\r\n",
      "  Installing build dependencies ... \u001B[?25ldone\r\n",
      "\u001B[?25h  Getting requirements to build wheel ... \u001B[?25ldone\r\n",
      "\u001B[?25h  Preparing metadata (pyproject.toml) ... \u001B[?25ldone\r\n",
      "\u001B[?25hCollecting google-pasta>=0.1.1 (from tensorflow)\r\n",
      "  Downloading google_pasta-0.2.0-py3-none-any.whl.metadata (814 bytes)\r\n",
      "Collecting h5py>=3.10.0 (from tensorflow)\r\n",
      "  Downloading h5py-3.11.0-cp312-cp312-macosx_11_0_arm64.whl.metadata (2.5 kB)\r\n",
      "Collecting libclang>=13.0.0 (from tensorflow)\r\n",
      "  Downloading libclang-18.1.1-1-py2.py3-none-macosx_11_0_arm64.whl.metadata (5.2 kB)\r\n",
      "Collecting ml-dtypes~=0.3.1 (from tensorflow)\r\n",
      "  Downloading ml_dtypes-0.3.2-cp312-cp312-macosx_10_9_universal2.whl.metadata (20 kB)\r\n",
      "Collecting opt-einsum>=2.3.2 (from tensorflow)\r\n",
      "  Downloading opt_einsum-3.3.0-py3-none-any.whl.metadata (6.5 kB)\r\n",
      "Requirement already satisfied: packaging in ./.venv/lib/python3.12/site-packages (from tensorflow) (24.1)\r\n",
      "Collecting protobuf!=4.21.0,!=4.21.1,!=4.21.2,!=4.21.3,!=4.21.4,!=4.21.5,<5.0.0dev,>=3.20.3 (from tensorflow)\r\n",
      "  Downloading protobuf-4.25.3-cp37-abi3-macosx_10_9_universal2.whl.metadata (541 bytes)\r\n",
      "Requirement already satisfied: requests<3,>=2.21.0 in ./.venv/lib/python3.12/site-packages (from tensorflow) (2.32.3)\r\n",
      "Requirement already satisfied: setuptools in ./.venv/lib/python3.12/site-packages (from tensorflow) (70.1.1)\r\n",
      "Requirement already satisfied: six>=1.12.0 in ./.venv/lib/python3.12/site-packages (from tensorflow) (1.16.0)\r\n",
      "Collecting termcolor>=1.1.0 (from tensorflow)\r\n",
      "  Downloading termcolor-2.4.0-py3-none-any.whl.metadata (6.1 kB)\r\n",
      "Collecting typing-extensions>=3.6.6 (from tensorflow)\r\n",
      "  Downloading typing_extensions-4.12.2-py3-none-any.whl.metadata (3.0 kB)\r\n",
      "Collecting wrapt>=1.11.0 (from tensorflow)\r\n",
      "  Downloading wrapt-1.16.0-cp312-cp312-macosx_11_0_arm64.whl.metadata (6.6 kB)\r\n",
      "Collecting grpcio<2.0,>=1.24.3 (from tensorflow)\r\n",
      "  Downloading grpcio-1.64.1-cp312-cp312-macosx_10_9_universal2.whl.metadata (3.3 kB)\r\n",
      "Collecting tensorboard<2.17,>=2.16 (from tensorflow)\r\n",
      "  Downloading tensorboard-2.16.2-py3-none-any.whl.metadata (1.6 kB)\r\n",
      "Collecting keras>=3.0.0 (from tensorflow)\r\n",
      "  Downloading keras-3.4.1-py3-none-any.whl.metadata (5.8 kB)\r\n",
      "Collecting numpy<2.0.0,>=1.26.0 (from tensorflow)\r\n",
      "  Using cached numpy-1.26.4-cp312-cp312-macosx_11_0_arm64.whl.metadata (61 kB)\r\n",
      "Collecting wheel<1.0,>=0.23.0 (from astunparse>=1.6.0->tensorflow)\r\n",
      "  Downloading wheel-0.43.0-py3-none-any.whl.metadata (2.2 kB)\r\n",
      "Collecting rich (from keras>=3.0.0->tensorflow)\r\n",
      "  Downloading rich-13.7.1-py3-none-any.whl.metadata (18 kB)\r\n",
      "Collecting namex (from keras>=3.0.0->tensorflow)\r\n",
      "  Downloading namex-0.0.8-py3-none-any.whl.metadata (246 bytes)\r\n",
      "Collecting optree (from keras>=3.0.0->tensorflow)\r\n",
      "  Downloading optree-0.11.0-cp312-cp312-macosx_11_0_arm64.whl.metadata (45 kB)\r\n",
      "\u001B[2K     \u001B[90m━━━━━━━━━━━━━━━━━━━━━━━━━━━━━━━━━━━━━━━━\u001B[0m \u001B[32m45.4/45.4 kB\u001B[0m \u001B[31m3.9 MB/s\u001B[0m eta \u001B[36m0:00:00\u001B[0m\r\n",
      "\u001B[?25hRequirement already satisfied: charset-normalizer<4,>=2 in ./.venv/lib/python3.12/site-packages (from requests<3,>=2.21.0->tensorflow) (3.3.2)\r\n",
      "Requirement already satisfied: idna<4,>=2.5 in ./.venv/lib/python3.12/site-packages (from requests<3,>=2.21.0->tensorflow) (3.7)\r\n",
      "Requirement already satisfied: urllib3<3,>=1.21.1 in ./.venv/lib/python3.12/site-packages (from requests<3,>=2.21.0->tensorflow) (2.2.2)\r\n",
      "Requirement already satisfied: certifi>=2017.4.17 in ./.venv/lib/python3.12/site-packages (from requests<3,>=2.21.0->tensorflow) (2024.6.2)\r\n",
      "Collecting markdown>=2.6.8 (from tensorboard<2.17,>=2.16->tensorflow)\r\n",
      "  Downloading Markdown-3.6-py3-none-any.whl.metadata (7.0 kB)\r\n",
      "Collecting tensorboard-data-server<0.8.0,>=0.7.0 (from tensorboard<2.17,>=2.16->tensorflow)\r\n",
      "  Downloading tensorboard_data_server-0.7.2-py3-none-any.whl.metadata (1.1 kB)\r\n",
      "Collecting werkzeug>=1.0.1 (from tensorboard<2.17,>=2.16->tensorflow)\r\n",
      "  Downloading werkzeug-3.0.3-py3-none-any.whl.metadata (3.7 kB)\r\n",
      "Requirement already satisfied: MarkupSafe>=2.1.1 in ./.venv/lib/python3.12/site-packages (from werkzeug>=1.0.1->tensorboard<2.17,>=2.16->tensorflow) (2.1.5)\r\n",
      "Collecting markdown-it-py>=2.2.0 (from rich->keras>=3.0.0->tensorflow)\r\n",
      "  Downloading markdown_it_py-3.0.0-py3-none-any.whl.metadata (6.9 kB)\r\n",
      "Requirement already satisfied: pygments<3.0.0,>=2.13.0 in ./.venv/lib/python3.12/site-packages (from rich->keras>=3.0.0->tensorflow) (2.18.0)\r\n",
      "Collecting mdurl~=0.1 (from markdown-it-py>=2.2.0->rich->keras>=3.0.0->tensorflow)\r\n",
      "  Downloading mdurl-0.1.2-py3-none-any.whl.metadata (1.6 kB)\r\n",
      "Downloading tensorflow-2.16.2-cp312-cp312-macosx_12_0_arm64.whl (227.1 MB)\r\n",
      "\u001B[2K   \u001B[90m━━━━━━━━━━━━━━━━━━━━━━━━━━━━━━━━━━━━━━━━\u001B[0m \u001B[32m227.1/227.1 MB\u001B[0m \u001B[31m39.6 MB/s\u001B[0m eta \u001B[36m0:00:00\u001B[0m00:01\u001B[0m00:01\u001B[0m\r\n",
      "\u001B[?25hDownloading absl_py-2.1.0-py3-none-any.whl (133 kB)\r\n",
      "\u001B[2K   \u001B[90m━━━━━━━━━━━━━━━━━━━━━━━━━━━━━━━━━━━━━━━━\u001B[0m \u001B[32m133.7/133.7 kB\u001B[0m \u001B[31m18.3 MB/s\u001B[0m eta \u001B[36m0:00:00\u001B[0m\r\n",
      "\u001B[?25hDownloading astunparse-1.6.3-py2.py3-none-any.whl (12 kB)\r\n",
      "Downloading flatbuffers-24.3.25-py2.py3-none-any.whl (26 kB)\r\n",
      "Downloading google_pasta-0.2.0-py3-none-any.whl (57 kB)\r\n",
      "\u001B[2K   \u001B[90m━━━━━━━━━━━━━━━━━━━━━━━━━━━━━━━━━━━━━━━━\u001B[0m \u001B[32m57.5/57.5 kB\u001B[0m \u001B[31m7.0 MB/s\u001B[0m eta \u001B[36m0:00:00\u001B[0m\r\n",
      "\u001B[?25hDownloading grpcio-1.64.1-cp312-cp312-macosx_10_9_universal2.whl (10.3 MB)\r\n",
      "\u001B[2K   \u001B[90m━━━━━━━━━━━━━━━━━━━━━━━━━━━━━━━━━━━━━━━━\u001B[0m \u001B[32m10.3/10.3 MB\u001B[0m \u001B[31m61.9 MB/s\u001B[0m eta \u001B[36m0:00:00\u001B[0m \u001B[36m0:00:01\u001B[0m\r\n",
      "\u001B[?25hDownloading h5py-3.11.0-cp312-cp312-macosx_11_0_arm64.whl (2.9 MB)\r\n",
      "\u001B[2K   \u001B[90m━━━━━━━━━━━━━━━━━━━━━━━━━━━━━━━━━━━━━━━━\u001B[0m \u001B[32m2.9/2.9 MB\u001B[0m \u001B[31m67.2 MB/s\u001B[0m eta \u001B[36m0:00:00\u001B[0m00:01\u001B[0m\r\n",
      "\u001B[?25hDownloading keras-3.4.1-py3-none-any.whl (1.1 MB)\r\n",
      "\u001B[2K   \u001B[90m━━━━━━━━━━━━━━━━━━━━━━━━━━━━━━━━━━━━━━━━\u001B[0m \u001B[32m1.1/1.1 MB\u001B[0m \u001B[31m54.7 MB/s\u001B[0m eta \u001B[36m0:00:00\u001B[0m\r\n",
      "\u001B[?25hDownloading libclang-18.1.1-1-py2.py3-none-macosx_11_0_arm64.whl (25.8 MB)\r\n",
      "\u001B[2K   \u001B[90m━━━━━━━━━━━━━━━━━━━━━━━━━━━━━━━━━━━━━━━━\u001B[0m \u001B[32m25.8/25.8 MB\u001B[0m \u001B[31m56.1 MB/s\u001B[0m eta \u001B[36m0:00:00\u001B[0ma \u001B[36m0:00:01\u001B[0m\r\n",
      "\u001B[?25hDownloading ml_dtypes-0.3.2-cp312-cp312-macosx_10_9_universal2.whl (393 kB)\r\n",
      "\u001B[2K   \u001B[90m━━━━━━━━━━━━━━━━━━━━━━━━━━━━━━━━━━━━━━━━\u001B[0m \u001B[32m393.6/393.6 kB\u001B[0m \u001B[31m35.8 MB/s\u001B[0m eta \u001B[36m0:00:00\u001B[0m\r\n",
      "\u001B[?25hUsing cached numpy-1.26.4-cp312-cp312-macosx_11_0_arm64.whl (13.7 MB)\r\n",
      "Downloading opt_einsum-3.3.0-py3-none-any.whl (65 kB)\r\n",
      "\u001B[2K   \u001B[90m━━━━━━━━━━━━━━━━━━━━━━━━━━━━━━━━━━━━━━━━\u001B[0m \u001B[32m65.5/65.5 kB\u001B[0m \u001B[31m9.1 MB/s\u001B[0m eta \u001B[36m0:00:00\u001B[0m\r\n",
      "\u001B[?25hDownloading protobuf-4.25.3-cp37-abi3-macosx_10_9_universal2.whl (394 kB)\r\n",
      "\u001B[2K   \u001B[90m━━━━━━━━━━━━━━━━━━━━━━━━━━━━━━━━━━━━━━━━\u001B[0m \u001B[32m394.2/394.2 kB\u001B[0m \u001B[31m38.3 MB/s\u001B[0m eta \u001B[36m0:00:00\u001B[0m\r\n",
      "\u001B[?25hDownloading tensorboard-2.16.2-py3-none-any.whl (5.5 MB)\r\n",
      "\u001B[2K   \u001B[90m━━━━━━━━━━━━━━━━━━━━━━━━━━━━━━━━━━━━━━━━\u001B[0m \u001B[32m5.5/5.5 MB\u001B[0m \u001B[31m67.2 MB/s\u001B[0m eta \u001B[36m0:00:00\u001B[0m00:01\u001B[0m00:01\u001B[0m\r\n",
      "\u001B[?25hDownloading termcolor-2.4.0-py3-none-any.whl (7.7 kB)\r\n",
      "Downloading typing_extensions-4.12.2-py3-none-any.whl (37 kB)\r\n",
      "Downloading wrapt-1.16.0-cp312-cp312-macosx_11_0_arm64.whl (38 kB)\r\n",
      "Downloading Markdown-3.6-py3-none-any.whl (105 kB)\r\n",
      "\u001B[2K   \u001B[90m━━━━━━━━━━━━━━━━━━━━━━━━━━━━━━━━━━━━━━━━\u001B[0m \u001B[32m105.4/105.4 kB\u001B[0m \u001B[31m15.3 MB/s\u001B[0m eta \u001B[36m0:00:00\u001B[0m\r\n",
      "\u001B[?25hDownloading tensorboard_data_server-0.7.2-py3-none-any.whl (2.4 kB)\r\n",
      "Downloading werkzeug-3.0.3-py3-none-any.whl (227 kB)\r\n",
      "\u001B[2K   \u001B[90m━━━━━━━━━━━━━━━━━━━━━━━━━━━━━━━━━━━━━━━━\u001B[0m \u001B[32m227.3/227.3 kB\u001B[0m \u001B[31m34.2 MB/s\u001B[0m eta \u001B[36m0:00:00\u001B[0m\r\n",
      "\u001B[?25hDownloading wheel-0.43.0-py3-none-any.whl (65 kB)\r\n",
      "\u001B[2K   \u001B[90m━━━━━━━━━━━━━━━━━━━━━━━━━━━━━━━━━━━━━━━━\u001B[0m \u001B[32m65.8/65.8 kB\u001B[0m \u001B[31m7.8 MB/s\u001B[0m eta \u001B[36m0:00:00\u001B[0m\r\n",
      "\u001B[?25hDownloading namex-0.0.8-py3-none-any.whl (5.8 kB)\r\n",
      "Downloading optree-0.11.0-cp312-cp312-macosx_11_0_arm64.whl (276 kB)\r\n",
      "\u001B[2K   \u001B[90m━━━━━━━━━━━━━━━━━━━━━━━━━━━━━━━━━━━━━━━━\u001B[0m \u001B[32m276.7/276.7 kB\u001B[0m \u001B[31m36.8 MB/s\u001B[0m eta \u001B[36m0:00:00\u001B[0m\r\n",
      "\u001B[?25hDownloading rich-13.7.1-py3-none-any.whl (240 kB)\r\n",
      "\u001B[2K   \u001B[90m━━━━━━━━━━━━━━━━━━━━━━━━━━━━━━━━━━━━━━━━\u001B[0m \u001B[32m240.7/240.7 kB\u001B[0m \u001B[31m29.8 MB/s\u001B[0m eta \u001B[36m0:00:00\u001B[0m\r\n",
      "\u001B[?25hDownloading markdown_it_py-3.0.0-py3-none-any.whl (87 kB)\r\n",
      "\u001B[2K   \u001B[90m━━━━━━━━━━━━━━━━━━━━━━━━━━━━━━━━━━━━━━━━\u001B[0m \u001B[32m87.5/87.5 kB\u001B[0m \u001B[31m12.5 MB/s\u001B[0m eta \u001B[36m0:00:00\u001B[0m\r\n",
      "\u001B[?25hDownloading mdurl-0.1.2-py3-none-any.whl (10.0 kB)\r\n",
      "Building wheels for collected packages: gast\r\n",
      "  Building wheel for gast (pyproject.toml) ... \u001B[?25ldone\r\n",
      "\u001B[?25h  Created wheel for gast: filename=gast-0.6.0-py3-none-any.whl size=21172 sha256=32f9ac778d0e0e04aad1240a9117c31fd5128e67cd6d46166141e49072ef7e11\r\n",
      "  Stored in directory: /Users/pawel/Library/Caches/pip/wheels/42/3f/6a/b8ddfb8e9453cabbe4c01b13aa03a200bfaa3aa24013d38924\r\n",
      "Successfully built gast\r\n",
      "Installing collected packages: namex, libclang, flatbuffers, wrapt, wheel, werkzeug, typing-extensions, termcolor, tensorboard-data-server, protobuf, numpy, mdurl, markdown, grpcio, google-pasta, gast, absl-py, tensorboard, optree, opt-einsum, ml-dtypes, markdown-it-py, h5py, astunparse, rich, keras, tensorflow\r\n",
      "Successfully installed absl-py-2.1.0 astunparse-1.6.3 flatbuffers-24.3.25 gast-0.6.0 google-pasta-0.2.0 grpcio-1.64.1 h5py-3.11.0 keras-3.4.1 libclang-18.1.1 markdown-3.6 markdown-it-py-3.0.0 mdurl-0.1.2 ml-dtypes-0.3.2 namex-0.0.8 numpy-1.26.4 opt-einsum-3.3.0 optree-0.11.0 protobuf-4.25.3 rich-13.7.1 tensorboard-2.16.2 tensorboard-data-server-0.7.2 tensorflow-2.16.2 termcolor-2.4.0 typing-extensions-4.12.2 werkzeug-3.0.3 wheel-0.43.0 wrapt-1.16.0\r\n",
      "\r\n",
      "\u001B[1m[\u001B[0m\u001B[34;49mnotice\u001B[0m\u001B[1;39;49m]\u001B[0m\u001B[39;49m A new release of pip is available: \u001B[0m\u001B[31;49m24.0\u001B[0m\u001B[39;49m -> \u001B[0m\u001B[32;49m24.1.1\u001B[0m\r\n",
      "\u001B[1m[\u001B[0m\u001B[34;49mnotice\u001B[0m\u001B[1;39;49m]\u001B[0m\u001B[39;49m To update, run: \u001B[0m\u001B[32;49mpip install --upgrade pip\u001B[0m\r\n",
      "Note: you may need to restart the kernel to use updated packages.\n",
      "Requirement already satisfied: numpy in ./.venv/lib/python3.12/site-packages (1.26.4)\r\n",
      "\r\n",
      "\u001B[1m[\u001B[0m\u001B[34;49mnotice\u001B[0m\u001B[1;39;49m]\u001B[0m\u001B[39;49m A new release of pip is available: \u001B[0m\u001B[31;49m24.0\u001B[0m\u001B[39;49m -> \u001B[0m\u001B[32;49m24.1.1\u001B[0m\r\n",
      "\u001B[1m[\u001B[0m\u001B[34;49mnotice\u001B[0m\u001B[1;39;49m]\u001B[0m\u001B[39;49m To update, run: \u001B[0m\u001B[32;49mpip install --upgrade pip\u001B[0m\r\n",
      "Note: you may need to restart the kernel to use updated packages.\n",
      "Collecting matplotlib\r\n",
      "  Using cached matplotlib-3.9.0-cp312-cp312-macosx_11_0_arm64.whl.metadata (11 kB)\r\n",
      "Collecting contourpy>=1.0.1 (from matplotlib)\r\n",
      "  Using cached contourpy-1.2.1-cp312-cp312-macosx_11_0_arm64.whl.metadata (5.8 kB)\r\n",
      "Collecting cycler>=0.10 (from matplotlib)\r\n",
      "  Using cached cycler-0.12.1-py3-none-any.whl.metadata (3.8 kB)\r\n",
      "Collecting fonttools>=4.22.0 (from matplotlib)\r\n",
      "  Using cached fonttools-4.53.0-cp312-cp312-macosx_11_0_arm64.whl.metadata (162 kB)\r\n",
      "Collecting kiwisolver>=1.3.1 (from matplotlib)\r\n",
      "  Using cached kiwisolver-1.4.5-cp312-cp312-macosx_11_0_arm64.whl.metadata (6.4 kB)\r\n",
      "Requirement already satisfied: numpy>=1.23 in ./.venv/lib/python3.12/site-packages (from matplotlib) (1.26.4)\r\n",
      "Requirement already satisfied: packaging>=20.0 in ./.venv/lib/python3.12/site-packages (from matplotlib) (24.1)\r\n",
      "Collecting pillow>=8 (from matplotlib)\r\n",
      "  Using cached pillow-10.3.0-cp312-cp312-macosx_11_0_arm64.whl.metadata (9.2 kB)\r\n",
      "Collecting pyparsing>=2.3.1 (from matplotlib)\r\n",
      "  Using cached pyparsing-3.1.2-py3-none-any.whl.metadata (5.1 kB)\r\n",
      "Requirement already satisfied: python-dateutil>=2.7 in ./.venv/lib/python3.12/site-packages (from matplotlib) (2.9.0.post0)\r\n",
      "Requirement already satisfied: six>=1.5 in ./.venv/lib/python3.12/site-packages (from python-dateutil>=2.7->matplotlib) (1.16.0)\r\n",
      "Using cached matplotlib-3.9.0-cp312-cp312-macosx_11_0_arm64.whl (7.8 MB)\r\n",
      "Using cached contourpy-1.2.1-cp312-cp312-macosx_11_0_arm64.whl (245 kB)\r\n",
      "Using cached cycler-0.12.1-py3-none-any.whl (8.3 kB)\r\n",
      "Using cached fonttools-4.53.0-cp312-cp312-macosx_11_0_arm64.whl (2.2 MB)\r\n",
      "Using cached kiwisolver-1.4.5-cp312-cp312-macosx_11_0_arm64.whl (64 kB)\r\n",
      "Using cached pillow-10.3.0-cp312-cp312-macosx_11_0_arm64.whl (3.4 MB)\r\n",
      "Using cached pyparsing-3.1.2-py3-none-any.whl (103 kB)\r\n",
      "Installing collected packages: pyparsing, pillow, kiwisolver, fonttools, cycler, contourpy, matplotlib\r\n",
      "Successfully installed contourpy-1.2.1 cycler-0.12.1 fonttools-4.53.0 kiwisolver-1.4.5 matplotlib-3.9.0 pillow-10.3.0 pyparsing-3.1.2\r\n",
      "\r\n",
      "\u001B[1m[\u001B[0m\u001B[34;49mnotice\u001B[0m\u001B[1;39;49m]\u001B[0m\u001B[39;49m A new release of pip is available: \u001B[0m\u001B[31;49m24.0\u001B[0m\u001B[39;49m -> \u001B[0m\u001B[32;49m24.1.1\u001B[0m\r\n",
      "\u001B[1m[\u001B[0m\u001B[34;49mnotice\u001B[0m\u001B[1;39;49m]\u001B[0m\u001B[39;49m To update, run: \u001B[0m\u001B[32;49mpip install --upgrade pip\u001B[0m\r\n",
      "Note: you may need to restart the kernel to use updated packages.\n"
     ]
    }
   ]
  },
  {
   "cell_type": "code",
   "outputs": [],
   "source": [
    "import tensorflow as tf\n",
    "import numpy as np\n",
    "import matplotlib.pyplot as plt"
   ],
   "metadata": {
    "collapsed": false,
    "ExecuteTime": {
     "end_time": "2024-06-30T19:15:58.238842Z",
     "start_time": "2024-06-30T19:15:19.733689Z"
    }
   },
   "execution_count": 2
  },
  {
   "cell_type": "code",
   "metadata": {
    "id": "cd-1_abTUSNS",
    "ExecuteTime": {
     "end_time": "2024-06-30T19:16:25.797012Z",
     "start_time": "2024-06-30T19:16:25.793008Z"
    }
   },
   "source": [
    "num_classes = 10 # całkowita liczba klas, w naszym przypadku są to liczby od 0 do 9\n",
    "num_features = 784 # liczba atrybutów wektora wejściowego 28 * 28 = 784\n",
    "\n",
    "learning_rate = 0.001 # szybkość uczenia się sieci neuronowej\n",
    "training_steps = 2000 # maksymalna liczba epok\n",
    "batch_size = 256 # przeliczymy wagi sieci nie na całej próbce, ale na jej losowym podzbiorze elementów bat\n",
    "display_step = 100 # co 100 iteracji pokażemy aktualną wartość funkcji straty i dokładności\n",
    "\n",
    "n_hidden_1 = 128 # liczba neuronów warstwy 1\n",
    "n_hidden_2 = 256 # liczba neuronów warstwy 2"
   ],
   "execution_count": 4,
   "outputs": []
  },
  {
   "cell_type": "code",
   "metadata": {
    "id": "pGTXiRyTUSNT",
    "ExecuteTime": {
     "end_time": "2024-06-30T19:18:48.172714Z",
     "start_time": "2024-06-30T19:18:47.927409Z"
    }
   },
   "source": [
    "from tensorflow.keras.datasets import mnist\n",
    "\n",
    "# Ładowanie zestawu danych\n",
    "(x_train, y_train), (x_test, y_test) = mnist.load_data()\n",
    "\n",
    "# Konwersja pikseli całkowitych na typ float32\n",
    "x_train, x_test = np.array(x_train, np.float32), np.array(x_test, np.float32)\n",
    "\n",
    "# Konwertujemy macierze 28x28 pikseli na wektor składający się z 784 elementów\n",
    "x_train, x_test = x_train.reshape([-1, num_features]), x_test.reshape([-1, num_features])\n",
    "\n",
    "# Normalizacja wartości pikseli\n",
    "x_train, x_test = x_train / 255., x_test / 255.\n",
    "\n",
    "# Zmiksujmy dane treningowe\n",
    "train_data = tf.data.Dataset.from_tensor_slices((x_train, y_train))\n",
    "train_data = train_data.repeat().shuffle(5000).batch(batch_size).prefetch(1)"
   ],
   "execution_count": 9,
   "outputs": []
  },
  {
   "cell_type": "code",
   "metadata": {
    "id": "FkRmCQjnUSNV",
    "ExecuteTime": {
     "end_time": "2024-06-30T19:18:55.621927Z",
     "start_time": "2024-06-30T19:18:55.616310Z"
    }
   },
   "source": [
    "# Stwórzmy sieć neuronową\n",
    "\n",
    "class DenseLayer(tf.Module):\n",
    "    def __init__(self, in_features, out_features, name=None):\n",
    "      super().__init__(name=name)\n",
    "      self.w = tf.Variable(\n",
    "        tf.random.normal([in_features, out_features]), name=\"w\"\n",
    "      )\n",
    "      self.b = tf.Variable(tf.zeros([out_features]), name=\"b\")\n",
    "\n",
    "\n",
    "    def __call__(self, x):\n",
    "      y = tf.matmul(x, self.w) + self.b\n",
    "      return y\n",
    "\n",
    "\n",
    "class NN(tf.Module):\n",
    "  def __init__(self, name=None):\n",
    "    super().__init__(name=name)\n",
    "\n",
    "    in_out = [num_features, n_hidden_1, n_hidden_2, num_classes]\n",
    "    layers = []\n",
    "\n",
    "    # Tworzenie warstw\n",
    "    for i in range(len(in_out)-1):\n",
    "      layers.append(DenseLayer(in_out[i], in_out[i+1], \"layer\"))\n",
    "\n",
    "    self.layers = layers\n",
    "\n",
    "  def __call__(self, x):\n",
    "\n",
    "    i = 0\n",
    "    n = len(self.layers) # 3\n",
    "\n",
    "    for layer in self.layers:\n",
    "      i += 1\n",
    "      x = layer(x)\n",
    "\n",
    "      if i < n:\n",
    "        x = tf.nn.relu(x) # 1, 2\n",
    "      else:\n",
    "        x = tf.nn.softmax(x) # 3\n",
    "\n",
    "\n",
    "    return x"
   ],
   "execution_count": 10,
   "outputs": []
  },
  {
   "cell_type": "code",
   "metadata": {
    "id": "LIf3o7VAUSNV",
    "ExecuteTime": {
     "end_time": "2024-06-30T19:19:00.676049Z",
     "start_time": "2024-06-30T19:19:00.672598Z"
    }
   },
   "source": [
    "# W tym przypadku wygodnie jest przyjąć entropię krzyżową jako funkcję błędu\n",
    "def cross_entropy(y_pred, y_true):\n",
    "    # Encode label to a one hot vector.\n",
    "    y_true = tf.one_hot(y_true, depth=num_classes)\n",
    "\n",
    "    # Clip prediction values to avoid log(0) error.\n",
    "    y_pred = tf.clip_by_value(y_pred, 1e-9, 1.)\n",
    "\n",
    "    # Obliczanie entropii krzyżowej\n",
    "    return tf.reduce_mean(-tf.reduce_sum(y_true * tf.math.log(y_pred)))\n",
    "\n",
    "# Jako miernik jakości stosujemy dokładność\n",
    "def accuracy(y_pred, y_true):\n",
    "\n",
    "  y_true = tf.one_hot(y_true, depth=num_classes)\n",
    "\n",
    "  m = tf.keras.metrics.Accuracy()\n",
    "  m.update_state(y_true, y_pred)\n",
    "\n",
    "  return m.result().numpy()\n"
   ],
   "execution_count": 11,
   "outputs": []
  },
  {
   "cell_type": "code",
   "metadata": {
    "id": "MQeT1yatUSNW",
    "ExecuteTime": {
     "end_time": "2024-06-30T19:19:07.113568Z",
     "start_time": "2024-06-30T19:19:07.103083Z"
    }
   },
   "source": [
    "# Stwórzmy przykładową sieć neuronową\n",
    "neural_net = NN(name=\"mnist\")\n",
    "\n",
    "# Funkcja treningu sieci neuronowej\n",
    "def train(nn, input_x, output_y):\n",
    "  # Do dopasowania wag sieci wykorzystamy stochastyczne zejście gradientowe\n",
    "  optimizer = tf.optimizers.SGD(learning_rate)\n",
    "\n",
    "  # Aktywacja automatycznego różnicowania\n",
    "\n",
    "  with tf.GradientTape() as g:\n",
    "    pred = nn(input_x)\n",
    "    loss = cross_entropy(pred, output_y)\n",
    "    # Utwórz zoptymalizowaną listę parametrów\n",
    "    variables = nn.variables\n",
    "    # Oblicz na ich podstawie wartość gradientu\n",
    "    gradient = g.gradient(loss, variables)\n",
    "    # Zmodyfikuj parametry\n",
    "    optimizer.apply_gradients(zip(gradient, variables))\n",
    "\n",
    "\n",
    "\n",
    "\n",
    "\n"
   ],
   "execution_count": 12,
   "outputs": []
  },
  {
   "cell_type": "code",
   "metadata": {
    "id": "fnyns9lBfpQZ",
    "ExecuteTime": {
     "end_time": "2024-06-30T19:19:11.550259Z",
     "start_time": "2024-06-30T19:19:11.547027Z"
    }
   },
   "source": [
    "# Szkolenie sieciowe\n",
    "\n",
    "loss_history = []  # każdy krok display_step zapisuje bieżący błąd sieci neuronowej na tej liście\n",
    "accuracy_history = [] # każdy krok display_step zapisuje aktualną dokładność sieci neuronowej na tej liście\n",
    "displays_steps = []\n"
   ],
   "execution_count": 13,
   "outputs": []
  },
  {
   "cell_type": "code",
   "source": [
    "\n",
    "# W tej pętli będziemy trenować sieć neuronową\n",
    "# Z treningowego zbioru danych train_data, wyodrębnij losowy podzbiór, na którym\n",
    "# będzie trenowana. Użyj metody take dostępnej dla szkoleniowego zbioru danych.\n",
    "for step, (batch_x, batch_y) in zip(range(training_steps), train_data):\n",
    "    # Aktualizacja wag sieci neuronowej\n",
    "\n",
    "    train(neural_net, batch_x, batch_y)\n",
    "\n",
    "    if step % display_step == 0:\n",
    "\n",
    "        pred = neural_net(batch_x)\n",
    "\n",
    "        loss_history.append(cross_entropy(pred, batch_y))\n",
    "        accuracy_history.append(accuracy(pred, batch_y))\n",
    "        displays_steps.append(step)\n"
   ],
   "metadata": {
    "id": "w7R96qUPRDAb",
    "ExecuteTime": {
     "end_time": "2024-06-30T19:19:32.327152Z",
     "start_time": "2024-06-30T19:19:16.413579Z"
    }
   },
   "execution_count": 14,
   "outputs": []
  },
  {
   "cell_type": "code",
   "metadata": {
    "id": "_yCBfG6MbQB2",
    "colab": {
     "base_uri": "https://localhost:8080/",
     "height": 447
    },
    "outputId": "8934d058-0414-4585-ff4f-938528d6670f",
    "ExecuteTime": {
     "end_time": "2024-06-30T19:20:04.192040Z",
     "start_time": "2024-06-30T19:20:03.799428Z"
    }
   },
   "source": [
    "# Wykreśl zmianę dokładności i strat jako funkcję skoku\n",
    "# Jeśli zostanie to zrobione poprawnie, dokładność powinna wzrosnąć, a straty powinny się zmniejszyć.\n",
    "\n",
    "plt.subplot(1, 2, 1)\n",
    "plt.plot(displays_steps, loss_history, color='g')\n",
    "plt.grid(True)\n",
    "plt.legend([\"loss history\"])\n",
    "plt.subplot(1, 2, 2)\n",
    "plt.plot(displays_steps, accuracy_history, color='b')\n",
    "plt.grid(True)\n",
    "plt.legend([\"accuracy history\"])"
   ],
   "execution_count": 15,
   "outputs": [
    {
     "data": {
      "text/plain": "<matplotlib.legend.Legend at 0x17f5873e0>"
     },
     "execution_count": 15,
     "metadata": {},
     "output_type": "execute_result"
    },
    {
     "data": {
      "text/plain": "<Figure size 640x480 with 2 Axes>",
      "image/png": "[encoded data removed]"
     },
     "metadata": {},
     "output_type": "display_data"
    }
   ]
  },
  {
   "cell_type": "code",
   "metadata": {
    "id": "LE3g4gDyUSNY",
    "colab": {
     "base_uri": "https://localhost:8080/"
    },
    "outputId": "11a9059c-8191-4bdb-d8c3-6e3619ec7ef8",
    "ExecuteTime": {
     "end_time": "2024-06-30T19:20:13.711364Z",
     "start_time": "2024-06-30T19:20:13.678505Z"
    }
   },
   "source": [
    "# Oblicz dokładność wytrenowanej sieci neuronowej\n",
    "\n",
    "acc = accuracy(neural_net(x_test), y_test)\n",
    "print(acc)\n"
   ],
   "execution_count": 16,
   "outputs": [
    {
     "name": "stdout",
     "output_type": "stream",
     "text": [
      "0.87341076\n"
     ]
    }
   ]
  },
  {
   "cell_type": "code",
   "metadata": {
    "id": "_EEHAubOUSNY",
    "colab": {
     "base_uri": "https://localhost:8080/",
     "height": 465
    },
    "outputId": "81f1ed26-57a5-48e8-c70a-ad9e233b78c4",
    "ExecuteTime": {
     "end_time": "2024-06-30T19:20:40.294913Z",
     "start_time": "2024-06-30T19:20:40.201191Z"
    }
   },
   "source": [
    "# Przetestuj wytrenowaną sieć neuronową na 10 obrazach. Z próbki testowej wybierz 5\n",
    "# losowych obrazów i wprowadź je do sieci neuronowej.\n",
    "# Wyprowadź obraz i zapisz obok niego odpowiedź sieci neuronowej.\n",
    "# Czy sieć neuronowa się myli, a jeśli tak, to jak często?\n",
    "\n",
    "\n",
    "sample_num = 65\n",
    "x1 = x_test[sample_num].reshape(28, 28)\n",
    "print(y_test[sample_num])\n",
    "plt.imshow(x1)\n"
   ],
   "execution_count": 17,
   "outputs": [
    {
     "name": "stdout",
     "output_type": "stream",
     "text": [
      "4\n"
     ]
    },
    {
     "data": {
      "text/plain": "<matplotlib.image.AxesImage at 0x17f5720f0>"
     },
     "execution_count": 17,
     "metadata": {},
     "output_type": "execute_result"
    },
    {
     "data": {
      "text/plain": "<Figure size 640x480 with 1 Axes>",
      "image/png": "[encoded data removed]"
     },
     "metadata": {},
     "output_type": "display_data"
    }
   ]
  },
  {
   "cell_type": "code",
   "source": [
    "sample_num = 100\n",
    "x1 = x_test[sample_num].reshape(28, 28)\n",
    "print(y_test[sample_num])\n",
    "plt.imshow(x1)"
   ],
   "metadata": {
    "colab": {
     "base_uri": "https://localhost:8080/",
     "height": 465
    },
    "id": "Y_xu3cyKh32R",
    "outputId": "396a8fc2-f84e-416d-a5f1-11a553bd950e",
    "ExecuteTime": {
     "end_time": "2024-06-30T19:21:00.292561Z",
     "start_time": "2024-06-30T19:21:00.196024Z"
    }
   },
   "execution_count": 18,
   "outputs": [
    {
     "name": "stdout",
     "output_type": "stream",
     "text": [
      "6\n"
     ]
    },
    {
     "data": {
      "text/plain": "<matplotlib.image.AxesImage at 0x17ef8a9f0>"
     },
     "execution_count": 18,
     "metadata": {},
     "output_type": "execute_result"
    },
    {
     "data": {
      "text/plain": "<Figure size 640x480 with 1 Axes>",
      "image/png": "[encoded data removed]"
     },
     "metadata": {},
     "output_type": "display_data"
    }
   ]
  },
  {
   "cell_type": "code",
   "source": [
    "sample_num = 300\n",
    "x1 = x_test[sample_num].reshape(28, 28)\n",
    "print(y_test[sample_num])\n",
    "plt.imshow(x1)"
   ],
   "metadata": {
    "colab": {
     "base_uri": "https://localhost:8080/",
     "height": 465
    },
    "id": "M27TVrrph6x4",
    "outputId": "064f95b2-df28-4c44-f477-2d675cdb42b6",
    "ExecuteTime": {
     "end_time": "2024-06-30T19:21:18.382514Z",
     "start_time": "2024-06-30T19:21:18.284052Z"
    }
   },
   "execution_count": 19,
   "outputs": [
    {
     "name": "stdout",
     "output_type": "stream",
     "text": [
      "4\n"
     ]
    },
    {
     "data": {
      "text/plain": "<matplotlib.image.AxesImage at 0x17ef390d0>"
     },
     "execution_count": 19,
     "metadata": {},
     "output_type": "execute_result"
    },
    {
     "data": {
      "text/plain": "<Figure size 640x480 with 1 Axes>",
      "image/png": "[encoded data removed]"
     },
     "metadata": {},
     "output_type": "display_data"
    }
   ]
  },
  {
   "cell_type": "code",
   "source": [
    "sample_num = 15\n",
    "x1 = x_test[sample_num].reshape(28, 28)\n",
    "print(y_test[sample_num])\n",
    "plt.imshow(x1)"
   ],
   "metadata": {
    "colab": {
     "base_uri": "https://localhost:8080/",
     "height": 465
    },
    "id": "JjGfWTzph_PL",
    "outputId": "8595f863-1311-4099-a1ce-c8d3cdd66ea6",
    "ExecuteTime": {
     "end_time": "2024-06-30T19:21:35.343553Z",
     "start_time": "2024-06-30T19:21:35.254084Z"
    }
   },
   "execution_count": 20,
   "outputs": [
    {
     "name": "stdout",
     "output_type": "stream",
     "text": [
      "5\n"
     ]
    },
    {
     "data": {
      "text/plain": "<matplotlib.image.AxesImage at 0x17f041910>"
     },
     "execution_count": 20,
     "metadata": {},
     "output_type": "execute_result"
    },
    {
     "data": {
      "text/plain": "<Figure size 640x480 with 1 Axes>",
      "image/png": "[encoded data removed]"
     },
     "metadata": {},
     "output_type": "display_data"
    }
   ]
  },
  {
   "cell_type": "code",
   "source": [
    "sample_num = 270\n",
    "x1 = x_test[sample_num].reshape(28, 28)\n",
    "print(y_test[sample_num])\n",
    "plt.imshow(x1)"
   ],
   "metadata": {
    "colab": {
     "base_uri": "https://localhost:8080/",
     "height": 465
    },
    "id": "PwzwTg-wiDCk",
    "outputId": "c322a13e-b425-45aa-f478-e5d2f6c9f82a",
    "ExecuteTime": {
     "end_time": "2024-06-30T19:22:18.434896Z",
     "start_time": "2024-06-30T19:22:18.335559Z"
    }
   },
   "execution_count": 21,
   "outputs": [
    {
     "name": "stdout",
     "output_type": "stream",
     "text": [
      "3\n"
     ]
    },
    {
     "data": {
      "text/plain": "<matplotlib.image.AxesImage at 0x17ef88230>"
     },
     "execution_count": 21,
     "metadata": {},
     "output_type": "execute_result"
    },
    {
     "data": {
      "text/plain": "<Figure size 640x480 with 1 Axes>",
      "image/png": "[encoded data removed]"
     },
     "metadata": {},
     "output_type": "display_data"
    }
   ]
  },
  {
   "cell_type": "code",
   "source": [
    "sample_num = 500\n",
    "x1 = x_test[sample_num].reshape(28, 28)\n",
    "print(y_test[sample_num])\n",
    "plt.imshow(x1)"
   ],
   "metadata": {
    "colab": {
     "base_uri": "https://localhost:8080/",
     "height": 465
    },
    "id": "qRmXNXGuiM_6",
    "outputId": "f4612d11-3c69-45c5-c5dc-5174e56c9b4a",
    "ExecuteTime": {
     "end_time": "2024-06-30T19:22:31.777972Z",
     "start_time": "2024-06-30T19:22:31.689412Z"
    }
   },
   "execution_count": 22,
   "outputs": [
    {
     "name": "stdout",
     "output_type": "stream",
     "text": [
      "3\n"
     ]
    },
    {
     "data": {
      "text/plain": "<matplotlib.image.AxesImage at 0x17eeec590>"
     },
     "execution_count": 22,
     "metadata": {},
     "output_type": "execute_result"
    },
    {
     "data": {
      "text/plain": "<Figure size 640x480 with 1 Axes>",
      "image/png": "[encoded data removed]"
     },
     "metadata": {},
     "output_type": "display_data"
    }
   ]
  },
  {
   "cell_type": "code",
   "source": [
    "sample_num = 700\n",
    "x1 = x_test[sample_num].reshape(28, 28)\n",
    "print(y_test[sample_num])\n",
    "plt.imshow(x1)"
   ],
   "metadata": {
    "colab": {
     "base_uri": "https://localhost:8080/",
     "height": 465
    },
    "id": "xs-1mSiKiRXp",
    "outputId": "3367627a-4d71-49fa-e23f-358f58dd2122",
    "ExecuteTime": {
     "end_time": "2024-06-30T19:22:50.566367Z",
     "start_time": "2024-06-30T19:22:50.393716Z"
    }
   },
   "execution_count": 23,
   "outputs": [
    {
     "name": "stdout",
     "output_type": "stream",
     "text": [
      "1\n"
     ]
    },
    {
     "data": {
      "text/plain": "<matplotlib.image.AxesImage at 0x176d513a0>"
     },
     "execution_count": 23,
     "metadata": {},
     "output_type": "execute_result"
    },
    {
     "data": {
      "text/plain": "<Figure size 640x480 with 1 Axes>",
      "image/png": "[encoded data removed]"
     },
     "metadata": {},
     "output_type": "display_data"
    }
   ]
  },
  {
   "cell_type": "code",
   "source": [
    "sample_num = 537\n",
    "x1 = x_test[sample_num].reshape(28, 28)\n",
    "print(y_test[sample_num])\n",
    "plt.imshow(x1)"
   ],
   "metadata": {
    "colab": {
     "base_uri": "https://localhost:8080/",
     "height": 465
    },
    "id": "jEN4GUlDiUEO",
    "outputId": "3d5b16bf-7fb5-4b68-e46d-e2f81010d759",
    "ExecuteTime": {
     "end_time": "2024-06-30T19:23:09.514156Z",
     "start_time": "2024-06-30T19:23:09.407691Z"
    }
   },
   "execution_count": 24,
   "outputs": [
    {
     "name": "stdout",
     "output_type": "stream",
     "text": [
      "1\n"
     ]
    },
    {
     "data": {
      "text/plain": "<matplotlib.image.AxesImage at 0x17f552ff0>"
     },
     "execution_count": 24,
     "metadata": {},
     "output_type": "execute_result"
    },
    {
     "data": {
      "text/plain": "<Figure size 640x480 with 1 Axes>",
      "image/png": "[encoded data removed]"
     },
     "metadata": {},
     "output_type": "display_data"
    }
   ]
  },
  {
   "cell_type": "code",
   "source": [],
   "metadata": {
    "id": "Sje1TFXAk4fc"
   },
   "execution_count": null,
   "outputs": []
  },
  {
   "cell_type": "code",
   "source": [
    "sample_num = 600\n",
    "x1 = x_test[sample_num].reshape(28, 28)\n",
    "print(y_test[sample_num])\n",
    "plt.imshow(x1)"
   ],
   "metadata": {
    "colab": {
     "base_uri": "https://localhost:8080/",
     "height": 465
    },
    "outputId": "d8f649af-d3b1-41dd-e20e-4b3de105f855",
    "id": "wsB6MAFHk410",
    "ExecuteTime": {
     "end_time": "2024-06-30T19:23:29.171982Z",
     "start_time": "2024-06-30T19:23:29.080922Z"
    }
   },
   "execution_count": 25,
   "outputs": [
    {
     "name": "stdout",
     "output_type": "stream",
     "text": [
      "6\n"
     ]
    },
    {
     "data": {
      "text/plain": "<matplotlib.image.AxesImage at 0x17f551640>"
     },
     "execution_count": 25,
     "metadata": {},
     "output_type": "execute_result"
    },
    {
     "data": {
      "text/plain": "<Figure size 640x480 with 1 Axes>",
      "image/png": "[encoded data removed]"
     },
     "metadata": {},
     "output_type": "display_data"
    }
   ]
  },
  {
   "cell_type": "code",
   "source": [],
   "metadata": {
    "id": "s-_wNBQjk8OV"
   },
   "execution_count": null,
   "outputs": []
  },
  {
   "cell_type": "code",
   "source": [
    "sample_num = 333\n",
    "x1 = x_test[sample_num].reshape(28, 28)\n",
    "print(y_test[sample_num])\n",
    "plt.imshow(x1)"
   ],
   "metadata": {
    "colab": {
     "base_uri": "https://localhost:8080/",
     "height": 465
    },
    "outputId": "ca817fe5-9d91-4a3c-b7fc-6f8272ae2f98",
    "id": "CjJ8auFKk8iG",
    "ExecuteTime": {
     "end_time": "2024-06-30T19:23:42.466910Z",
     "start_time": "2024-06-30T19:23:42.367566Z"
    }
   },
   "execution_count": 26,
   "outputs": [
    {
     "name": "stdout",
     "output_type": "stream",
     "text": [
      "5\n"
     ]
    },
    {
     "data": {
      "text/plain": "<matplotlib.image.AxesImage at 0x17fe3a690>"
     },
     "execution_count": 26,
     "metadata": {},
     "output_type": "execute_result"
    },
    {
     "data": {
      "text/plain": "<Figure size 640x480 with 1 Axes>",
      "image/png": "[encoded data removed]"
     },
     "metadata": {},
     "output_type": "display_data"
    }
   ]
  },
  {
   "cell_type": "code",
   "outputs": [],
   "source": [],
   "metadata": {
    "collapsed": false
   }
  }
 ]
}
